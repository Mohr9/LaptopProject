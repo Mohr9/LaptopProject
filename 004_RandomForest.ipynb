{
 "cells": [
  {
   "cell_type": "code",
   "execution_count": 1,
   "id": "99ccf69f",
   "metadata": {},
   "outputs": [],
   "source": [
    "####Importation des packagins :\n",
    "\n",
    "import pandas as pd\n",
    "import numpy as np\n",
    "\n",
    "#Packaging de visualisation\n",
    "import seaborn as sns\n",
    "import matplotlib.pyplot as plt\n",
    "\n",
    "#packaging preprocessing\n",
    "from sklearn.preprocessing import OrdinalEncoder, OneHotEncoder\n",
    "\n",
    "#selection de model\n",
    "from sklearn.model_selection import GridSearchCV, KFold, cross_val_score, train_test_split\n",
    "from sklearn.feature_selection import RFE\n",
    "from sklearn.pipeline import Pipeline\n",
    "\n",
    "#packaging model\n",
    "from sklearn.tree import DecisionTreeRegressor\n",
    "from sklearn.ensemble import RandomForestRegressor\n",
    "\n",
    "\n",
    "from sklearn.neighbors import KNeighborsRegressor\n",
    "from sklearn.linear_model import LinearRegression\n",
    "\n",
    "#packagng metrics\n",
    "from sklearn.metrics import make_scorer, mean_squared_error\n",
    "\n",
    "\n",
    "\n",
    "import warnings\n",
    "warnings.filterwarnings('ignore')"
   ]
  },
  {
   "cell_type": "code",
   "execution_count": 2,
   "id": "fc55241f",
   "metadata": {},
   "outputs": [],
   "source": [
    "laptop = pd.read_csv('laptop_data.csv', index_col = 0)"
   ]
  },
  {
   "cell_type": "code",
   "execution_count": 3,
   "id": "b4d35aba",
   "metadata": {},
   "outputs": [],
   "source": [
    "df = pd.read_csv('laptop_cleaned.csv')"
   ]
  },
  {
   "cell_type": "code",
   "execution_count": 4,
   "id": "139c18ce",
   "metadata": {},
   "outputs": [],
   "source": [
    "X,y = df.drop('Price', axis = 1), df['Price']"
   ]
  },
  {
   "cell_type": "markdown",
   "id": "84d5eba9",
   "metadata": {},
   "source": [
    "# 1. RandomForest"
   ]
  },
  {
   "cell_type": "code",
   "execution_count": 5,
   "id": "0fe95d17",
   "metadata": {},
   "outputs": [],
   "source": [
    "forest = RandomForestRegressor()\n",
    "cross = KFold(n_splits=5, shuffle=True, random_state=42)"
   ]
  },
  {
   "cell_type": "code",
   "execution_count": 6,
   "id": "fd10242a",
   "metadata": {},
   "outputs": [],
   "source": [
    "model_init = cross_val_score(estimator=forest, \n",
    "                X=X,y=y, \n",
    "                cv=cross,  \n",
    "                scoring=make_scorer(mean_squared_error))"
   ]
  },
  {
   "cell_type": "markdown",
   "id": "61b99ba0",
   "metadata": {},
   "source": [
    "# 2. Mesure du score "
   ]
  },
  {
   "cell_type": "code",
   "execution_count": 7,
   "id": "9a87aa83",
   "metadata": {},
   "outputs": [],
   "source": [
    "#### definition d'une fonction calculant le rmse : \n",
    "def rmse(score):\n",
    "    moy = score.mean()\n",
    "    rmse = np.sqrt(moy)\n",
    "    return round(rmse,2)"
   ]
  },
  {
   "cell_type": "code",
   "execution_count": 8,
   "id": "3306e526",
   "metadata": {},
   "outputs": [
    {
     "data": {
      "text/plain": [
       "148.68"
      ]
     },
     "execution_count": 8,
     "metadata": {},
     "output_type": "execute_result"
    }
   ],
   "source": [
    "rmse(model_init)\n",
    "#deja un meilleur score de base que knn amélioré"
   ]
  },
  {
   "cell_type": "markdown",
   "id": "e73fcc6d",
   "metadata": {},
   "source": [
    "# 3. Amelioration du modèle :\n",
    "\n",
    "- On va tenter d'améliorer :\n",
    "    - KFold n_split\n",
    "    - parametres du randomforest (n_estimators, max_depth , min_samples_split)"
   ]
  },
  {
   "cell_type": "code",
   "execution_count": 9,
   "id": "595d907e",
   "metadata": {},
   "outputs": [],
   "source": [
    "parametre_grid = {\"n_estimators\":[100, 200, 300,400,500]}"
   ]
  },
  {
   "cell_type": "code",
   "execution_count": 10,
   "id": "236dd263",
   "metadata": {},
   "outputs": [],
   "source": [
    "grid = GridSearchCV(estimator=RandomForestRegressor(), \n",
    "                    param_grid=parametre_grid, \n",
    "                    cv=cross)"
   ]
  },
  {
   "cell_type": "code",
   "execution_count": 11,
   "id": "f2ee1a1a",
   "metadata": {},
   "outputs": [
    {
     "data": {
      "text/plain": [
       "GridSearchCV(cv=KFold(n_splits=5, random_state=42, shuffle=True),\n",
       "             estimator=RandomForestRegressor(),\n",
       "             param_grid={'n_estimators': [100, 200, 300, 400, 500]})"
      ]
     },
     "execution_count": 11,
     "metadata": {},
     "output_type": "execute_result"
    }
   ],
   "source": [
    "grid.fit(X,y)"
   ]
  },
  {
   "cell_type": "code",
   "execution_count": 12,
   "id": "10a69000",
   "metadata": {},
   "outputs": [
    {
     "data": {
      "text/plain": [
       "RandomForestRegressor(n_estimators=500)"
      ]
     },
     "execution_count": 12,
     "metadata": {},
     "output_type": "execute_result"
    }
   ],
   "source": [
    "best_grid = grid.best_estimator_\n",
    "best_grid"
   ]
  },
  {
   "cell_type": "code",
   "execution_count": 13,
   "id": "a17e0a9c",
   "metadata": {},
   "outputs": [],
   "source": [
    "best_model_grid = cross_val_score(estimator= best_grid, \n",
    "                X=X,y=y, \n",
    "                cv=cross,  \n",
    "                scoring=make_scorer(mean_squared_error))"
   ]
  },
  {
   "cell_type": "code",
   "execution_count": 14,
   "id": "37399fd0",
   "metadata": {},
   "outputs": [
    {
     "name": "stdout",
     "output_type": "stream",
     "text": [
      "split  2 : rmse = 149.31 $\n",
      "split  4 : rmse = 151.9 $\n",
      "split  6 : rmse = 148.97 $\n",
      "split  8 : rmse = 147.43 $\n",
      "split  10 : rmse = 144.19 $\n",
      "split  12 : rmse = 145.65 $\n",
      "split  14 : rmse = 144.28 $\n",
      "split  16 : rmse = 142.95 $\n",
      "split  18 : rmse = 142.44 $\n"
     ]
    }
   ],
   "source": [
    "dict_score_split = {}\n",
    "for i in range(2,20,2):\n",
    "    cross = KFold(n_splits=i, shuffle=True, random_state=42)\n",
    "    best_model_grid = cross_val_score(estimator= best_grid, \n",
    "                X=X,y=y, \n",
    "                cv=cross,  \n",
    "                scoring=make_scorer(mean_squared_error))\n",
    "    dict_score_split[i] = float(rmse(best_model_grid))\n",
    "    print(\"split \",i, \": rmse =\", dict_score_split[i], \"$\")"
   ]
  },
  {
   "cell_type": "code",
   "execution_count": 15,
   "id": "8deab007",
   "metadata": {},
   "outputs": [
    {
     "data": {
      "text/plain": [
       "18"
      ]
     },
     "execution_count": 15,
     "metadata": {},
     "output_type": "execute_result"
    }
   ],
   "source": [
    "best_n_split = min(dict_score_split, key = dict_score_split.get)\n",
    "best_n_split"
   ]
  },
  {
   "cell_type": "code",
   "execution_count": 16,
   "id": "d2db4a40",
   "metadata": {},
   "outputs": [],
   "source": [
    "best_cross = KFold(n_splits=best_n_split, shuffle = True, random_state=42)"
   ]
  },
  {
   "cell_type": "code",
   "execution_count": 17,
   "id": "4bb91813",
   "metadata": {},
   "outputs": [],
   "source": [
    "best_model = cross_val_score(estimator=best_grid, X = X, y = y, cv = best_cross, scoring=make_scorer(mean_squared_error))"
   ]
  },
  {
   "cell_type": "code",
   "execution_count": null,
   "id": "214ed894",
   "metadata": {},
   "outputs": [],
   "source": []
  },
  {
   "cell_type": "code",
   "execution_count": 18,
   "id": "7dc17440",
   "metadata": {},
   "outputs": [
    {
     "name": "stdout",
     "output_type": "stream",
     "text": [
      "Prédiction du prix avec l'amélioration du modèle à  142.59 $ près\n"
     ]
    }
   ],
   "source": [
    "print(\"Prédiction du prix avec l'amélioration du modèle à \", rmse(best_model), \"$ près\") "
   ]
  },
  {
   "cell_type": "code",
   "execution_count": 19,
   "id": "e6eb29d2",
   "metadata": {},
   "outputs": [
    {
     "name": "stdout",
     "output_type": "stream",
     "text": [
      "Amélioration de la prédiction du prix de : 6.09 $\n"
     ]
    }
   ],
   "source": [
    "print(\"Amélioration de la prédiction du prix de :\", round(float(rmse(model_init))-float(rmse(best_model)),2), \"$\")"
   ]
  },
  {
   "cell_type": "markdown",
   "id": "d7a5de71",
   "metadata": {},
   "source": [
    "#### Conclusion : \n",
    "- RandomForest est le modèle le plus précis de notre pool, nous allons l'utiliser pour notre déploiment."
   ]
  },
  {
   "cell_type": "markdown",
   "id": "f984b313",
   "metadata": {},
   "source": [
    "## Sauvegarde du modèle "
   ]
  },
  {
   "cell_type": "code",
   "execution_count": 30,
   "id": "3863d7fc",
   "metadata": {},
   "outputs": [],
   "source": [
    "import pickle"
   ]
  },
  {
   "cell_type": "code",
   "execution_count": 31,
   "id": "6a1a6e3a",
   "metadata": {},
   "outputs": [],
   "source": [
    "file = open('laptop_prediction.pkl', 'wb')\n",
    "pickle.dump(best_grid, file)\n",
    "file.close()"
   ]
  },
  {
   "cell_type": "code",
   "execution_count": 32,
   "id": "d392a461",
   "metadata": {},
   "outputs": [
    {
     "data": {
      "text/html": [
       "<div>\n",
       "<style scoped>\n",
       "    .dataframe tbody tr th:only-of-type {\n",
       "        vertical-align: middle;\n",
       "    }\n",
       "\n",
       "    .dataframe tbody tr th {\n",
       "        vertical-align: top;\n",
       "    }\n",
       "\n",
       "    .dataframe thead th {\n",
       "        text-align: right;\n",
       "    }\n",
       "</style>\n",
       "<table border=\"1\" class=\"dataframe\">\n",
       "  <thead>\n",
       "    <tr style=\"text-align: right;\">\n",
       "      <th></th>\n",
       "      <th>Company</th>\n",
       "      <th>TypeName</th>\n",
       "      <th>Inches</th>\n",
       "      <th>ScreenResolution</th>\n",
       "      <th>Cpu</th>\n",
       "      <th>Ram</th>\n",
       "      <th>Memory</th>\n",
       "      <th>Gpu</th>\n",
       "      <th>OpSys</th>\n",
       "      <th>Weight</th>\n",
       "      <th>Price</th>\n",
       "    </tr>\n",
       "  </thead>\n",
       "  <tbody>\n",
       "    <tr>\n",
       "      <th>0</th>\n",
       "      <td>Apple</td>\n",
       "      <td>Ultrabook</td>\n",
       "      <td>13.3</td>\n",
       "      <td>IPS Panel Retina Display 2560x1600</td>\n",
       "      <td>Intel Core i5 2.3GHz</td>\n",
       "      <td>8GB</td>\n",
       "      <td>128GB SSD</td>\n",
       "      <td>Intel Iris Plus Graphics 640</td>\n",
       "      <td>macOS</td>\n",
       "      <td>1.37kg</td>\n",
       "      <td>71378.6832</td>\n",
       "    </tr>\n",
       "  </tbody>\n",
       "</table>\n",
       "</div>"
      ],
      "text/plain": [
       "  Company   TypeName  Inches                    ScreenResolution  \\\n",
       "0   Apple  Ultrabook    13.3  IPS Panel Retina Display 2560x1600   \n",
       "\n",
       "                    Cpu  Ram     Memory                           Gpu  OpSys  \\\n",
       "0  Intel Core i5 2.3GHz  8GB  128GB SSD  Intel Iris Plus Graphics 640  macOS   \n",
       "\n",
       "   Weight       Price  \n",
       "0  1.37kg  71378.6832  "
      ]
     },
     "execution_count": 32,
     "metadata": {},
     "output_type": "execute_result"
    }
   ],
   "source": [
    "laptop.head(1)"
   ]
  },
  {
   "cell_type": "markdown",
   "id": "820913af",
   "metadata": {},
   "source": [
    "## Exemple de prediction : "
   ]
  },
  {
   "cell_type": "code",
   "execution_count": 28,
   "id": "9f3e8e89",
   "metadata": {},
   "outputs": [
    {
     "data": {
      "text/plain": [
       "array([419.6780428])"
      ]
     },
     "execution_count": 28,
     "metadata": {},
     "output_type": "execute_result"
    }
   ],
   "source": [
    "best_grid.predict([X.iloc[1,:]])"
   ]
  },
  {
   "cell_type": "code",
   "execution_count": null,
   "id": "93fdfe01",
   "metadata": {},
   "outputs": [],
   "source": [
    "\n"
   ]
  }
 ],
 "metadata": {
  "kernelspec": {
   "display_name": "Python 3 (ipykernel)",
   "language": "python",
   "name": "python3"
  },
  "language_info": {
   "codemirror_mode": {
    "name": "ipython",
    "version": 3
   },
   "file_extension": ".py",
   "mimetype": "text/x-python",
   "name": "python",
   "nbconvert_exporter": "python",
   "pygments_lexer": "ipython3",
   "version": "3.8.13"
  }
 },
 "nbformat": 4,
 "nbformat_minor": 5
}
