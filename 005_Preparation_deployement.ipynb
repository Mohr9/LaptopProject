{
 "cells": [
  {
   "cell_type": "code",
   "execution_count": 286,
   "id": "4a3526d5",
   "metadata": {},
   "outputs": [],
   "source": [
    "# on importe les librairies\n",
    "import streamlit as st\n",
    "import pandas as pd\n",
    "import numpy as np\n",
    "import pickle\n",
    "import streamlit as st\n",
    "from streamlit_option_menu import option_menu\n",
    "from PIL import Image\n",
    "import base64\n",
    "from sklearn.preprocessing import OrdinalEncoder\n",
    "\n",
    "df = pd.read_csv('laptop_data.csv', index_col=0)\n",
    " ### Transformation des features :\n",
    "\n",
    "#Reduction des modalités \n",
    "\n",
    "Gpu_enc = []\n",
    "for i in df.Gpu.str.split(' '):\n",
    "    Gpu_enc.append(i[0])   \n",
    "Cpu_enc = []\n",
    "for i in df.Cpu.str.split(' '):\n",
    "    Cpu_enc.append(i[0])  \n",
    "df.Gpu, df.Cpu = Gpu_enc, Cpu_enc    \n",
    "\n",
    "Screen_enc = df.ScreenResolution.str.rsplit(n = 1, expand=True)[0]\n",
    "Memory_enc = df.Memory.str.rsplit(n=0, expand=True)[0]\n",
    "df['Memory'] = Memory_enc\n",
    "\n",
    "#Nettoyage des données : \n",
    "df['Weight'] = df.Weight.str.replace('kg', '').astype(float)\n",
    "\n",
    "\n",
    "##Separation des features continues et categoriques\n",
    "var_cat, var_cont = [], []\n",
    "for i in df.nunique().sort_values().index:\n",
    "    if df[i].nunique()>40:\n",
    "        var_cont.append(i)\n",
    "    else:\n",
    "        var_cat.append(i)\n",
    "\n",
    "#Suppression des features inutilisées\n",
    "df = df.drop(['Weight', 'Price'], axis = 1)\n",
    "data = df.copy()\n"
   ]
  },
  {
   "cell_type": "code",
   "execution_count": null,
   "id": "e128b47e",
   "metadata": {},
   "outputs": [],
   "source": []
  },
  {
   "cell_type": "code",
   "execution_count": 252,
   "id": "b6843d63",
   "metadata": {},
   "outputs": [],
   "source": [
    "var_choice = {}\n",
    "for i in df[var_cat]:\n",
    "    var_choice[i] = list(df[i].unique())"
   ]
  },
  {
   "cell_type": "code",
   "execution_count": 253,
   "id": "8efbbfd3",
   "metadata": {},
   "outputs": [],
   "source": [
    "col_var_choice = var_cat.copy()"
   ]
  },
  {
   "cell_type": "code",
   "execution_count": 254,
   "id": "cf872eeb",
   "metadata": {},
   "outputs": [],
   "source": [
    "var_cat[0] = st.selectbox(str(var_cat[0]),\n",
    "                                var_choice[var_cat[0]])\n",
    "var_cat[1] = st.selectbox(str(var_cat[1]),\n",
    "                                var_choice[var_cat[1]])\n",
    "var_cat[2] = st.selectbox(str(var_cat[2]),\n",
    "                                var_choice[var_cat[2]])\n",
    "var_cat[3] = st.selectbox(str(var_cat[3]),\n",
    "                                var_choice[var_cat[3]])\n",
    "var_cat[4] = st.selectbox(str(var_cat[4]),\n",
    "                                var_choice[var_cat[4]])\n",
    "var_cat[5] = st.selectbox(str(var_cat[5]),\n",
    "                                var_choice[var_cat[5]])\n",
    "var_cat[6] = st.selectbox(str(var_cat[6]),\n",
    "                                var_choice[var_cat[6]])\n",
    "var_cat[7] = st.selectbox(str(var_cat[7]),\n",
    "                                var_choice[var_cat[7]])\n",
    "var_cat[8] = st.selectbox(str(var_cat[8]),\n",
    "                                var_choice[var_cat[8]])"
   ]
  },
  {
   "cell_type": "code",
   "execution_count": 255,
   "id": "c8ed9110",
   "metadata": {},
   "outputs": [],
   "source": [
    "#on transforme var_cat en format compatible \n",
    "var_cat = pd.DataFrame(np.array(var_cat).reshape(1,len(var_cat)), columns=col_var_choice,index = [\"utilisateur\"])"
   ]
  },
  {
   "cell_type": "code",
   "execution_count": 256,
   "id": "bb0ca680",
   "metadata": {},
   "outputs": [],
   "source": [
    "#on met les colonne de df dans le meme ordre \n",
    "df = df[col_var_choice] "
   ]
  },
  {
   "cell_type": "code",
   "execution_count": 257,
   "id": "875d7880",
   "metadata": {
    "scrolled": false
   },
   "outputs": [
    {
     "data": {
      "text/html": [
       "<div>\n",
       "<style scoped>\n",
       "    .dataframe tbody tr th:only-of-type {\n",
       "        vertical-align: middle;\n",
       "    }\n",
       "\n",
       "    .dataframe tbody tr th {\n",
       "        vertical-align: top;\n",
       "    }\n",
       "\n",
       "    .dataframe thead th {\n",
       "        text-align: right;\n",
       "    }\n",
       "</style>\n",
       "<table border=\"1\" class=\"dataframe\">\n",
       "  <thead>\n",
       "    <tr style=\"text-align: right;\">\n",
       "      <th></th>\n",
       "      <th>Cpu</th>\n",
       "      <th>Gpu</th>\n",
       "      <th>TypeName</th>\n",
       "      <th>Ram</th>\n",
       "      <th>OpSys</th>\n",
       "      <th>Memory</th>\n",
       "      <th>Inches</th>\n",
       "      <th>Company</th>\n",
       "      <th>ScreenResolution</th>\n",
       "    </tr>\n",
       "  </thead>\n",
       "  <tbody>\n",
       "    <tr>\n",
       "      <th>1299</th>\n",
       "      <td>Intel</td>\n",
       "      <td>Intel</td>\n",
       "      <td>2 in 1 Convertible</td>\n",
       "      <td>16GB</td>\n",
       "      <td>Windows 10</td>\n",
       "      <td>512GB</td>\n",
       "      <td>13.3</td>\n",
       "      <td>Lenovo</td>\n",
       "      <td>IPS Panel Quad HD+ / Touchscreen 3200x1800</td>\n",
       "    </tr>\n",
       "    <tr>\n",
       "      <th>1300</th>\n",
       "      <td>Intel</td>\n",
       "      <td>Intel</td>\n",
       "      <td>Notebook</td>\n",
       "      <td>2GB</td>\n",
       "      <td>Windows 10</td>\n",
       "      <td>64GB</td>\n",
       "      <td>14.0</td>\n",
       "      <td>Lenovo</td>\n",
       "      <td>1366x768</td>\n",
       "    </tr>\n",
       "    <tr>\n",
       "      <th>1301</th>\n",
       "      <td>Intel</td>\n",
       "      <td>AMD</td>\n",
       "      <td>Notebook</td>\n",
       "      <td>6GB</td>\n",
       "      <td>Windows 10</td>\n",
       "      <td>1TB</td>\n",
       "      <td>15.6</td>\n",
       "      <td>HP</td>\n",
       "      <td>1366x768</td>\n",
       "    </tr>\n",
       "    <tr>\n",
       "      <th>1302</th>\n",
       "      <td>Intel</td>\n",
       "      <td>Intel</td>\n",
       "      <td>Notebook</td>\n",
       "      <td>4GB</td>\n",
       "      <td>Windows 10</td>\n",
       "      <td>500GB</td>\n",
       "      <td>15.6</td>\n",
       "      <td>Asus</td>\n",
       "      <td>1366x768</td>\n",
       "    </tr>\n",
       "    <tr>\n",
       "      <th>utilisateur</th>\n",
       "      <td>Intel</td>\n",
       "      <td>Intel</td>\n",
       "      <td>Ultrabook</td>\n",
       "      <td>8GB</td>\n",
       "      <td>macOS</td>\n",
       "      <td>128GB</td>\n",
       "      <td>13.3</td>\n",
       "      <td>Apple</td>\n",
       "      <td>IPS Panel Retina Display 2560x1600</td>\n",
       "    </tr>\n",
       "  </tbody>\n",
       "</table>\n",
       "</div>"
      ],
      "text/plain": [
       "               Cpu    Gpu            TypeName   Ram       OpSys Memory Inches  \\\n",
       "1299         Intel  Intel  2 in 1 Convertible  16GB  Windows 10  512GB   13.3   \n",
       "1300         Intel  Intel            Notebook   2GB  Windows 10   64GB   14.0   \n",
       "1301         Intel    AMD            Notebook   6GB  Windows 10    1TB   15.6   \n",
       "1302         Intel  Intel            Notebook   4GB  Windows 10  500GB   15.6   \n",
       "utilisateur  Intel  Intel           Ultrabook   8GB       macOS  128GB   13.3   \n",
       "\n",
       "            Company                            ScreenResolution  \n",
       "1299         Lenovo  IPS Panel Quad HD+ / Touchscreen 3200x1800  \n",
       "1300         Lenovo                                    1366x768  \n",
       "1301             HP                                    1366x768  \n",
       "1302           Asus                                    1366x768  \n",
       "utilisateur   Apple          IPS Panel Retina Display 2560x1600  "
      ]
     },
     "execution_count": 257,
     "metadata": {},
     "output_type": "execute_result"
    }
   ],
   "source": [
    "#on concatene les valeurs utilisateurs contenus dans var_cat et df :\n",
    "df = pd.concat([df,var_cat])\n",
    "df.tail()"
   ]
  },
  {
   "cell_type": "code",
   "execution_count": 258,
   "id": "5dbcefa0",
   "metadata": {},
   "outputs": [],
   "source": [
    "#on remet inches au bon types :\n",
    "df['Inches'] = df['Inches'].astype(float)"
   ]
  },
  {
   "cell_type": "code",
   "execution_count": 259,
   "id": "306cf183",
   "metadata": {
    "scrolled": true
   },
   "outputs": [],
   "source": [
    "var_a_enc = df.describe(include=('object')).columns"
   ]
  },
  {
   "cell_type": "code",
   "execution_count": 260,
   "id": "68c15a7d",
   "metadata": {},
   "outputs": [],
   "source": [
    "#encodage des données \n",
    "encoder = OrdinalEncoder()\n",
    "df[var_a_enc] = encoder.fit_transform(df[var_a_enc])\n"
   ]
  },
  {
   "cell_type": "code",
   "execution_count": 261,
   "id": "c4c948d6",
   "metadata": {},
   "outputs": [],
   "source": [
    "#normalisation"
   ]
  },
  {
   "cell_type": "code",
   "execution_count": 262,
   "id": "d18f4d5f",
   "metadata": {},
   "outputs": [],
   "source": [
    "var_a_norm = []\n",
    "for i in df:\n",
    "    if df[i].nunique()>10:\n",
    "        var_a_norm.append(i)"
   ]
  },
  {
   "cell_type": "code",
   "execution_count": 263,
   "id": "19c37ba2",
   "metadata": {},
   "outputs": [
    {
     "data": {
      "text/plain": [
       "['Memory', 'Inches', 'Company', 'ScreenResolution']"
      ]
     },
     "execution_count": 263,
     "metadata": {},
     "output_type": "execute_result"
    }
   ],
   "source": [
    "var_a_norm"
   ]
  },
  {
   "cell_type": "code",
   "execution_count": 264,
   "id": "38ed68f8",
   "metadata": {},
   "outputs": [
    {
     "data": {
      "text/html": [
       "<div>\n",
       "<style scoped>\n",
       "    .dataframe tbody tr th:only-of-type {\n",
       "        vertical-align: middle;\n",
       "    }\n",
       "\n",
       "    .dataframe tbody tr th {\n",
       "        vertical-align: top;\n",
       "    }\n",
       "\n",
       "    .dataframe thead th {\n",
       "        text-align: right;\n",
       "    }\n",
       "</style>\n",
       "<table border=\"1\" class=\"dataframe\">\n",
       "  <thead>\n",
       "    <tr style=\"text-align: right;\">\n",
       "      <th></th>\n",
       "      <th>Cpu</th>\n",
       "      <th>Gpu</th>\n",
       "      <th>TypeName</th>\n",
       "      <th>Ram</th>\n",
       "      <th>OpSys</th>\n",
       "      <th>Memory</th>\n",
       "      <th>Inches</th>\n",
       "      <th>Company</th>\n",
       "      <th>ScreenResolution</th>\n",
       "    </tr>\n",
       "  </thead>\n",
       "  <tbody>\n",
       "    <tr>\n",
       "      <th>0</th>\n",
       "      <td>1.0</td>\n",
       "      <td>2.0</td>\n",
       "      <td>4.0</td>\n",
       "      <td>8.0</td>\n",
       "      <td>8.0</td>\n",
       "      <td>-1.637857</td>\n",
       "      <td>-1.202814</td>\n",
       "      <td>-1.331260</td>\n",
       "      <td>1.744380</td>\n",
       "    </tr>\n",
       "    <tr>\n",
       "      <th>1</th>\n",
       "      <td>1.0</td>\n",
       "      <td>2.0</td>\n",
       "      <td>4.0</td>\n",
       "      <td>8.0</td>\n",
       "      <td>8.0</td>\n",
       "      <td>-1.637857</td>\n",
       "      <td>-1.202814</td>\n",
       "      <td>-1.331260</td>\n",
       "      <td>-1.043518</td>\n",
       "    </tr>\n",
       "    <tr>\n",
       "      <th>2</th>\n",
       "      <td>1.0</td>\n",
       "      <td>2.0</td>\n",
       "      <td>3.0</td>\n",
       "      <td>8.0</td>\n",
       "      <td>4.0</td>\n",
       "      <td>0.044113</td>\n",
       "      <td>0.409468</td>\n",
       "      <td>0.137406</td>\n",
       "      <td>-0.156460</td>\n",
       "    </tr>\n",
       "    <tr>\n",
       "      <th>3</th>\n",
       "      <td>1.0</td>\n",
       "      <td>0.0</td>\n",
       "      <td>4.0</td>\n",
       "      <td>1.0</td>\n",
       "      <td>8.0</td>\n",
       "      <td>1.726083</td>\n",
       "      <td>0.269269</td>\n",
       "      <td>-1.331260</td>\n",
       "      <td>1.997825</td>\n",
       "    </tr>\n",
       "    <tr>\n",
       "      <th>4</th>\n",
       "      <td>1.0</td>\n",
       "      <td>2.0</td>\n",
       "      <td>4.0</td>\n",
       "      <td>8.0</td>\n",
       "      <td>8.0</td>\n",
       "      <td>0.044113</td>\n",
       "      <td>-1.202814</td>\n",
       "      <td>-1.331260</td>\n",
       "      <td>1.744380</td>\n",
       "    </tr>\n",
       "    <tr>\n",
       "      <th>...</th>\n",
       "      <td>...</td>\n",
       "      <td>...</td>\n",
       "      <td>...</td>\n",
       "      <td>...</td>\n",
       "      <td>...</td>\n",
       "      <td>...</td>\n",
       "      <td>...</td>\n",
       "      <td>...</td>\n",
       "      <td>...</td>\n",
       "    </tr>\n",
       "    <tr>\n",
       "      <th>1299</th>\n",
       "      <td>1.0</td>\n",
       "      <td>2.0</td>\n",
       "      <td>0.0</td>\n",
       "      <td>1.0</td>\n",
       "      <td>5.0</td>\n",
       "      <td>1.726083</td>\n",
       "      <td>-1.202814</td>\n",
       "      <td>0.871739</td>\n",
       "      <td>1.237489</td>\n",
       "    </tr>\n",
       "    <tr>\n",
       "      <th>1300</th>\n",
       "      <td>1.0</td>\n",
       "      <td>2.0</td>\n",
       "      <td>3.0</td>\n",
       "      <td>3.0</td>\n",
       "      <td>5.0</td>\n",
       "      <td>2.062477</td>\n",
       "      <td>-0.712120</td>\n",
       "      <td>0.871739</td>\n",
       "      <td>-1.170241</td>\n",
       "    </tr>\n",
       "    <tr>\n",
       "      <th>1301</th>\n",
       "      <td>1.0</td>\n",
       "      <td>0.0</td>\n",
       "      <td>3.0</td>\n",
       "      <td>7.0</td>\n",
       "      <td>5.0</td>\n",
       "      <td>-0.628675</td>\n",
       "      <td>0.409468</td>\n",
       "      <td>0.137406</td>\n",
       "      <td>-1.170241</td>\n",
       "    </tr>\n",
       "    <tr>\n",
       "      <th>1302</th>\n",
       "      <td>1.0</td>\n",
       "      <td>2.0</td>\n",
       "      <td>3.0</td>\n",
       "      <td>5.0</td>\n",
       "      <td>5.0</td>\n",
       "      <td>1.053295</td>\n",
       "      <td>0.409468</td>\n",
       "      <td>-1.086482</td>\n",
       "      <td>-1.170241</td>\n",
       "    </tr>\n",
       "    <tr>\n",
       "      <th>utilisateur</th>\n",
       "      <td>1.0</td>\n",
       "      <td>2.0</td>\n",
       "      <td>4.0</td>\n",
       "      <td>8.0</td>\n",
       "      <td>8.0</td>\n",
       "      <td>-1.637857</td>\n",
       "      <td>-1.202814</td>\n",
       "      <td>-1.331260</td>\n",
       "      <td>1.744380</td>\n",
       "    </tr>\n",
       "  </tbody>\n",
       "</table>\n",
       "<p>1304 rows × 9 columns</p>\n",
       "</div>"
      ],
      "text/plain": [
       "             Cpu  Gpu  TypeName  Ram  OpSys    Memory    Inches   Company  \\\n",
       "0            1.0  2.0       4.0  8.0    8.0 -1.637857 -1.202814 -1.331260   \n",
       "1            1.0  2.0       4.0  8.0    8.0 -1.637857 -1.202814 -1.331260   \n",
       "2            1.0  2.0       3.0  8.0    4.0  0.044113  0.409468  0.137406   \n",
       "3            1.0  0.0       4.0  1.0    8.0  1.726083  0.269269 -1.331260   \n",
       "4            1.0  2.0       4.0  8.0    8.0  0.044113 -1.202814 -1.331260   \n",
       "...          ...  ...       ...  ...    ...       ...       ...       ...   \n",
       "1299         1.0  2.0       0.0  1.0    5.0  1.726083 -1.202814  0.871739   \n",
       "1300         1.0  2.0       3.0  3.0    5.0  2.062477 -0.712120  0.871739   \n",
       "1301         1.0  0.0       3.0  7.0    5.0 -0.628675  0.409468  0.137406   \n",
       "1302         1.0  2.0       3.0  5.0    5.0  1.053295  0.409468 -1.086482   \n",
       "utilisateur  1.0  2.0       4.0  8.0    8.0 -1.637857 -1.202814 -1.331260   \n",
       "\n",
       "             ScreenResolution  \n",
       "0                    1.744380  \n",
       "1                   -1.043518  \n",
       "2                   -0.156460  \n",
       "3                    1.997825  \n",
       "4                    1.744380  \n",
       "...                       ...  \n",
       "1299                 1.237489  \n",
       "1300                -1.170241  \n",
       "1301                -1.170241  \n",
       "1302                -1.170241  \n",
       "utilisateur          1.744380  \n",
       "\n",
       "[1304 rows x 9 columns]"
      ]
     },
     "execution_count": 264,
     "metadata": {},
     "output_type": "execute_result"
    }
   ],
   "source": [
    "#Normalisation du df\n",
    "df[var_a_norm]  = (df[var_a_norm] - df[var_a_norm].mean())/df[var_a_norm].std()\n",
    "df"
   ]
  },
  {
   "cell_type": "code",
   "execution_count": 265,
   "id": "fc7c399f",
   "metadata": {},
   "outputs": [],
   "source": [
    "df = df[data.columns]"
   ]
  },
  {
   "cell_type": "code",
   "execution_count": 282,
   "id": "9e265cb4",
   "metadata": {},
   "outputs": [],
   "source": [
    "utilisateur = df.iloc[-1, :]"
   ]
  },
  {
   "cell_type": "code",
   "execution_count": 274,
   "id": "6c426c4d",
   "metadata": {},
   "outputs": [],
   "source": [
    "from sklearn.neighbors import KNeighborsRegressor\n",
    "target = pd.read_csv('laptop_data.csv')"
   ]
  },
  {
   "cell_type": "code",
   "execution_count": 270,
   "id": "cad01c54",
   "metadata": {},
   "outputs": [],
   "source": [
    "X = df.iloc[:-1,:]\n",
    "y = target.Price"
   ]
  },
  {
   "cell_type": "code",
   "execution_count": 269,
   "id": "2bd19cd6",
   "metadata": {},
   "outputs": [],
   "source": [
    "knn = KNeighborsRegressor()"
   ]
  },
  {
   "cell_type": "code",
   "execution_count": 271,
   "id": "da19031e",
   "metadata": {},
   "outputs": [
    {
     "data": {
      "text/plain": [
       "KNeighborsRegressor()"
      ]
     },
     "execution_count": 271,
     "metadata": {},
     "output_type": "execute_result"
    }
   ],
   "source": [
    "knn.fit(X,y)"
   ]
  },
  {
   "cell_type": "code",
   "execution_count": 284,
   "id": "d75f6dfd",
   "metadata": {
    "scrolled": true
   },
   "outputs": [
    {
     "data": {
      "text/plain": [
       "78249.56544"
      ]
     },
     "execution_count": 284,
     "metadata": {},
     "output_type": "execute_result"
    }
   ],
   "source": [
    "knn.predict([utilisateur])[0]"
   ]
  },
  {
   "cell_type": "code",
   "execution_count": 4,
   "id": "c869a548",
   "metadata": {},
   "outputs": [
    {
     "name": "stderr",
     "output_type": "stream",
     "text": [
      "2022-08-06 01:16:05.659 INFO    numexpr.utils: NumExpr defaulting to 8 threads.\n",
      "2022-08-06 01:16:12.995 \n",
      "  \u001b[33m\u001b[1mWarning:\u001b[0m to view this Streamlit app on a browser, run it with the following\n",
      "  command:\n",
      "\n",
      "    streamlit run C:\\Users\\MohR9\\Anaconda3\\lib\\site-packages\\ipykernel_launcher.py [ARGUMENTS]\n"
     ]
    }
   ],
   "source": [
    "    # on importe les librairies\n",
    "import streamlit as st\n",
    "import pandas as pd\n",
    "import numpy as np\n",
    "import pickle\n",
    "import streamlit as st\n",
    "from streamlit_option_menu import option_menu\n",
    "from PIL import Image\n",
    "import base64\n",
    "from sklearn.preprocessing import OrdinalEncoder\n",
    "import  warnings\n",
    "warnings.filterwarnings('ignore')\n",
    "\n",
    "\n",
    "#### Arrière plan : \n",
    "\n",
    "\n",
    "\n",
    "\n",
    "### Chargement de notre modèle de prédiction ###\n",
    "file1 = open('laptop_prediction.pkl', 'rb')\n",
    "forest = pickle.load(file1)\n",
    "file1.close()\n",
    "\n",
    "# Création titre de la page\n",
    "st.title('Bienvenu sur notre site de prédiction de Laptop. Estimez le prix de votre appareil en y entrant ses caractéristiques') \n",
    "\n",
    "\n",
    "df = pd.read_csv('laptop_data.csv', index_col=0)\n",
    "\n",
    "### Transformation des features :\n",
    "\n",
    "\n"
   ]
  },
  {
   "cell_type": "code",
   "execution_count": 5,
   "id": "4007f53a",
   "metadata": {},
   "outputs": [],
   "source": [
    "#Reduction des modalités \n",
    "Gpu_enc = []\n",
    "for i in df.Gpu.str.split(' '):\n",
    "    Gpu_enc.append(i[0])   \n",
    "\n",
    "Cpu_enc = []\n",
    "for i in df.Cpu.str.split(' '):\n",
    "    Cpu_enc.append(i[0])  "
   ]
  },
  {
   "cell_type": "code",
   "execution_count": 6,
   "id": "22033eac",
   "metadata": {
    "scrolled": true
   },
   "outputs": [],
   "source": [
    "df.Gpu, df.Cpu = Gpu_enc, Cpu_enc    \n",
    "\n",
    "Screen_enc = df.ScreenResolution.str.rsplit(n = 1, expand=True)[0]\n",
    "Memory_enc = df.Memory.str.rsplit(n=0, expand=True)[0]\n",
    "df['Memory'] = Memory_enc\n",
    "\n",
    "    #Nettoyage des données : \n",
    "df['Weight'] = df.Weight.str.replace('kg', '').astype(float)\n",
    "\n",
    "    ##Separation des features continues et categoriques\n",
    "var_cat, var_cont = [], []\n",
    "for i in df.nunique().sort_values().index:\n",
    "    if df[i].nunique()>40:\n",
    "        var_cont.append(i)\n",
    "    else:\n",
    "        var_cat.append(i)\n",
    "\n",
    "    #Suppression des features inutilisées\n",
    "df = df.drop(['Weight', 'Price'], axis = 1)\n",
    "data = df.copy()\n",
    "\n",
    "##Récupération des features : \n",
    "var_choice = {}\n",
    "for i in df[var_cat]:\n",
    "    var_choice[i] = list(df[i].unique())\n",
    "\n",
    "col_var_choice = var_cat.copy()\n",
    "\n",
    "var_cat[0] = st.selectbox(str(var_cat[0]),\n",
    "                                var_choice[var_cat[0]])\n",
    "var_cat[1] = st.selectbox(str(var_cat[1]),\n",
    "                                var_choice[var_cat[1]])\n",
    "var_cat[2] = st.selectbox(str(var_cat[2]),\n",
    "                                var_choice[var_cat[2]])\n",
    "var_cat[3] = st.selectbox(str(var_cat[3]),\n",
    "                                var_choice[var_cat[3]])\n",
    "var_cat[4] = st.selectbox(str(var_cat[4]),\n",
    "                                var_choice[var_cat[4]])\n",
    "var_cat[5] = st.selectbox(str(var_cat[5]),\n",
    "                                var_choice[var_cat[5]])\n",
    "var_cat[6] = st.selectbox(str(var_cat[6]),\n",
    "                                var_choice[var_cat[6]])\n",
    "var_cat[7] = st.selectbox(str(var_cat[7]),\n",
    "                                var_choice[var_cat[7]])\n",
    "var_cat[8] = st.selectbox(str(var_cat[8]),\n",
    "                                var_choice[var_cat[8]])\n",
    "\n",
    "#on transforme var_cat en format compatible \n",
    "var_cat = pd.DataFrame(np.array(var_cat).reshape(1,len(var_cat)), columns=col_var_choice,index = [\"utilisateur\"])\n",
    "\n",
    "#on met les colonne de df dans le meme ordre \n",
    "df = df[col_var_choice] \n",
    "\n",
    "#on concatene les valeurs utilisateurs contenus dans var_cat et df :\n",
    "df = pd.concat([df,var_cat])\n",
    "\n",
    "#on remet inches au bon types :\n",
    "df['Inches'] = df['Inches'].astype(float)\n",
    "\n",
    "#encodage des données \n",
    "var_a_enc = df.describe(include=('object')).columns\n",
    "\n",
    "encoder = OrdinalEncoder()\n",
    "df[var_a_enc] = encoder.fit_transform(df[var_a_enc])\n",
    "\n",
    "#normalisation\n",
    "\n",
    "var_a_norm = []\n",
    "for i in df:\n",
    "    if df[i].nunique()>10:\n",
    "        var_a_norm.append(i)\n",
    "\n",
    "\n",
    "#Normalisation du df\n",
    "df[var_a_norm]  = (df[var_a_norm] - df[var_a_norm].mean())/df[var_a_norm].std()\n",
    "\n",
    "\n",
    "#remettre les colonnes dans l'ordre de départ :\n",
    "\n",
    "df = df[data.columns]\n",
    "\n",
    "#recuperation des données entrées par l'utilisateur \n",
    "\n",
    "utilisateur = df.iloc[-1, :]\n",
    "\n",
    "\n",
    "## Prediction \n",
    "\n",
    "if(st.button('Predict Laptop')):\n",
    "    prediction = forest.predict([utilisateur])[0]\n",
    "    print(f\"Nous estimons votre laptop à {prediction} soit {prediction*133.88} ₹\")\n"
   ]
  },
  {
   "cell_type": "code",
   "execution_count": 10,
   "id": "ca9575a6",
   "metadata": {},
   "outputs": [
    {
     "data": {
      "text/plain": [
       "568.7239229130261"
      ]
     },
     "execution_count": 10,
     "metadata": {},
     "output_type": "execute_result"
    }
   ],
   "source": [
    "forest.predict([utilisateur])[0]"
   ]
  }
 ],
 "metadata": {
  "kernelspec": {
   "display_name": "Python 3 (ipykernel)",
   "language": "python",
   "name": "python3"
  },
  "language_info": {
   "codemirror_mode": {
    "name": "ipython",
    "version": 3
   },
   "file_extension": ".py",
   "mimetype": "text/x-python",
   "name": "python",
   "nbconvert_exporter": "python",
   "pygments_lexer": "ipython3",
   "version": "3.8.13"
  }
 },
 "nbformat": 4,
 "nbformat_minor": 5
}
