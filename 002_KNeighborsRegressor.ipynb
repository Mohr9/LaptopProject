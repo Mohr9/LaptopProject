{
 "cells": [
  {
   "cell_type": "markdown",
   "id": "b4635523",
   "metadata": {},
   "source": [
    "# Sprint 2 : "
   ]
  },
  {
   "cell_type": "code",
   "execution_count": 293,
   "id": "dcb1a1f9",
   "metadata": {},
   "outputs": [],
   "source": [
    "####Importation des packagins :\n",
    "\n",
    "import pandas as pd\n",
    "import numpy as np\n",
    "\n",
    "#Packaging de visualisation\n",
    "import seaborn as sns\n",
    "import matplotlib.pyplot as plt\n",
    "\n",
    "#packaging preprocessing\n",
    "from sklearn.preprocessing import OrdinalEncoder\n",
    "\n",
    "#selection de model\n",
    "from sklearn.model_selection import GridSearchCV, KFold, cross_val_score\n",
    "from sklearn.feature_selection import RFE\n",
    "from sklearn.pipeline import Pipeline\n",
    "\n",
    "#packaging model\n",
    "from sklearn.tree import DecisionTreeRegressor\n",
    "from sklearn.ensemble import RandomForestRegressor\n",
    "\n",
    "\n",
    "from sklearn.neighbors import KNeighborsRegressor\n",
    "from sklearn.linear_model import LinearRegression\n",
    "\n",
    "#packagng metrics\n",
    "from sklearn.metrics import make_scorer, mean_squared_error\n",
    "\n",
    "\n",
    "\n",
    "import warnings\n",
    "warnings.filterwarnings('ignore')"
   ]
  },
  {
   "cell_type": "code",
   "execution_count": 294,
   "id": "55e6169f",
   "metadata": {},
   "outputs": [],
   "source": [
    "df = pd.read_csv('laptop_cleaned.csv')"
   ]
  },
  {
   "cell_type": "code",
   "execution_count": 295,
   "id": "0f7567f8",
   "metadata": {},
   "outputs": [],
   "source": [
    "X,y = df.drop('Price', axis = 1), df['Price']"
   ]
  },
  {
   "cell_type": "markdown",
   "id": "96488739",
   "metadata": {},
   "source": [
    "# 1. KNeighborsRegressor"
   ]
  },
  {
   "cell_type": "code",
   "execution_count": 296,
   "id": "d0fe1e56",
   "metadata": {},
   "outputs": [],
   "source": [
    "#instanciation des parametres \n",
    "knn = KNeighborsRegressor()\n",
    "cross = KFold(n_splits=5, shuffle=True, random_state=42)"
   ]
  },
  {
   "cell_type": "code",
   "execution_count": 312,
   "id": "c14e7432",
   "metadata": {},
   "outputs": [],
   "source": [
    "model_init = cross_val_score(estimator=knn, \n",
    "                X=X,y=y, \n",
    "                cv=cross,  \n",
    "                scoring=make_scorer(mean_squared_error))"
   ]
  },
  {
   "cell_type": "markdown",
   "id": "0fc781cd",
   "metadata": {},
   "source": [
    "# 2. Mesure du score "
   ]
  },
  {
   "cell_type": "code",
   "execution_count": 313,
   "id": "e06c1c95",
   "metadata": {},
   "outputs": [],
   "source": [
    "#### definition d'une fonction calculant le rmse : \n",
    "def rmse(score):\n",
    "    moy = score.mean()\n",
    "    rmse = np.sqrt(moy)\n",
    "    return round(rmse,2)"
   ]
  },
  {
   "cell_type": "code",
   "execution_count": 299,
   "id": "ed8ea6ae",
   "metadata": {},
   "outputs": [
    {
     "data": {
      "text/plain": [
       "167.47"
      ]
     },
     "execution_count": 299,
     "metadata": {},
     "output_type": "execute_result"
    }
   ],
   "source": [
    "rmse(model_init)"
   ]
  },
  {
   "cell_type": "markdown",
   "id": "6bd51cff",
   "metadata": {},
   "source": [
    "# 3. Amelioration du modèle :\n",
    "\n",
    "- On va tenter d'améliorer :\n",
    "    - le nombre de split optimal sur notre KFold\n",
    "    - n_neighbors, metric\n"
   ]
  },
  {
   "cell_type": "code",
   "execution_count": 300,
   "id": "0600e7f9",
   "metadata": {},
   "outputs": [],
   "source": [
    "parametre_grid = {\"n_neighbors\":np.arange(2,30), \"metric\": [\"euclidean\", \"manhattan\"] }"
   ]
  },
  {
   "cell_type": "code",
   "execution_count": 301,
   "id": "cf1a8d9c",
   "metadata": {},
   "outputs": [],
   "source": [
    "grid = GridSearchCV(estimator=KNeighborsRegressor(), \n",
    "                    param_grid=parametre_grid, \n",
    "                    cv=cross)"
   ]
  },
  {
   "cell_type": "code",
   "execution_count": 302,
   "id": "0fdf1680",
   "metadata": {},
   "outputs": [
    {
     "data": {
      "text/plain": [
       "GridSearchCV(cv=KFold(n_splits=5, random_state=42, shuffle=True),\n",
       "             estimator=KNeighborsRegressor(),\n",
       "             param_grid={'metric': ['euclidean', 'manhattan'],\n",
       "                         'n_neighbors': array([ 2,  3,  4,  5,  6,  7,  8,  9, 10, 11, 12, 13, 14, 15, 16, 17, 18,\n",
       "       19, 20, 21, 22, 23, 24, 25, 26, 27, 28, 29])})"
      ]
     },
     "execution_count": 302,
     "metadata": {},
     "output_type": "execute_result"
    }
   ],
   "source": [
    "grid.fit(X,y)"
   ]
  },
  {
   "cell_type": "code",
   "execution_count": 303,
   "id": "15ad88b4",
   "metadata": {},
   "outputs": [
    {
     "data": {
      "text/plain": [
       "KNeighborsRegressor(metric='manhattan', n_neighbors=3)"
      ]
     },
     "execution_count": 303,
     "metadata": {},
     "output_type": "execute_result"
    }
   ],
   "source": [
    "best_grid = grid.best_estimator_\n",
    "best_grid"
   ]
  },
  {
   "cell_type": "code",
   "execution_count": 304,
   "id": "33c90330",
   "metadata": {},
   "outputs": [],
   "source": [
    "best_model_grid = cross_val_score(estimator= best_grid, \n",
    "                X=X,y=y, \n",
    "                cv=cross,  \n",
    "                scoring=make_scorer(mean_squared_error))"
   ]
  },
  {
   "cell_type": "code",
   "execution_count": 305,
   "id": "9b1eee94",
   "metadata": {
    "scrolled": true
   },
   "outputs": [
    {
     "name": "stdout",
     "output_type": "stream",
     "text": [
      "split  2 : rmse = 162.1 $\n",
      "split  3 : rmse = 160.18 $\n",
      "split  4 : rmse = 157.6 $\n",
      "split  5 : rmse = 154.71 $\n",
      "split  6 : rmse = 155.34 $\n",
      "split  7 : rmse = 153.54 $\n",
      "split  8 : rmse = 154.3 $\n",
      "split  9 : rmse = 154.9 $\n",
      "split  10 : rmse = 155.01 $\n",
      "split  11 : rmse = 154.1 $\n",
      "split  12 : rmse = 154.47 $\n",
      "split  13 : rmse = 154.79 $\n",
      "split  14 : rmse = 153.21 $\n",
      "split  15 : rmse = 152.5 $\n",
      "split  16 : rmse = 152.89 $\n",
      "split  17 : rmse = 151.49 $\n",
      "split  18 : rmse = 153.28 $\n",
      "split  19 : rmse = 152.93 $\n"
     ]
    }
   ],
   "source": [
    "dict_score_split = {}\n",
    "for i in range(2,20):\n",
    "    cross = KFold(n_splits=i, shuffle=True, random_state=42)\n",
    "    best_model_grid = cross_val_score(estimator= best_grid, \n",
    "                X=X,y=y, \n",
    "                cv=cross,  \n",
    "                scoring=make_scorer(mean_squared_error))\n",
    "    dict_score_split[i] = float(rmse(best_model_grid))\n",
    "    print(\"split \",i, \": rmse =\", dict_score_split[i], \"$\")"
   ]
  },
  {
   "cell_type": "code",
   "execution_count": 306,
   "id": "c2265991",
   "metadata": {},
   "outputs": [],
   "source": [
    "best_n_split = min(dict_score_split, key = dict_score_split.get)"
   ]
  },
  {
   "cell_type": "code",
   "execution_count": 307,
   "id": "c66d8ab9",
   "metadata": {},
   "outputs": [],
   "source": [
    "#### Meilleur modèle KNN ### "
   ]
  },
  {
   "cell_type": "code",
   "execution_count": 308,
   "id": "a6e167fb",
   "metadata": {},
   "outputs": [],
   "source": [
    "best_cross = KFold(n_splits=best_n_split, shuffle = True, random_state=42)"
   ]
  },
  {
   "cell_type": "code",
   "execution_count": 309,
   "id": "c87b4db9",
   "metadata": {},
   "outputs": [],
   "source": [
    "best_model = cross_val_score(estimator=best_grid, X = X, y = y, cv = best_cross, scoring=make_scorer(mean_squared_error))"
   ]
  },
  {
   "cell_type": "code",
   "execution_count": 310,
   "id": "ef1ee753",
   "metadata": {},
   "outputs": [
    {
     "name": "stdout",
     "output_type": "stream",
     "text": [
      "Prédiction du prix avec l'amélioration du modèle à  151.49 $ près\n"
     ]
    }
   ],
   "source": [
    "print(\"Prédiction du prix avec l'amélioration du modèle à \", rmse(best_model), \"$ près\") "
   ]
  },
  {
   "cell_type": "code",
   "execution_count": 311,
   "id": "38ae751d",
   "metadata": {},
   "outputs": [
    {
     "name": "stdout",
     "output_type": "stream",
     "text": [
      "Amélioration de la prédiction du prix de : 15.98 $\n"
     ]
    }
   ],
   "source": [
    "     "
   ]
  },
  {
   "cell_type": "code",
   "execution_count": null,
   "id": "6c7bc23a",
   "metadata": {},
   "outputs": [],
   "source": []
  }
 ],
 "metadata": {
  "kernelspec": {
   "display_name": "Python 3 (ipykernel)",
   "language": "python",
   "name": "python3"
  },
  "language_info": {
   "codemirror_mode": {
    "name": "ipython",
    "version": 3
   },
   "file_extension": ".py",
   "mimetype": "text/x-python",
   "name": "python",
   "nbconvert_exporter": "python",
   "pygments_lexer": "ipython3",
   "version": "3.8.13"
  }
 },
 "nbformat": 4,
 "nbformat_minor": 5
}
