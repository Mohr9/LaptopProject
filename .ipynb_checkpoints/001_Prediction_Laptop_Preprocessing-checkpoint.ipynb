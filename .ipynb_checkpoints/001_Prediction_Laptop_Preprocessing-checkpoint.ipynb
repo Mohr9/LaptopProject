{
 "cells": [
  {
   "cell_type": "markdown",
   "id": "b9461caf",
   "metadata": {},
   "source": [
    "#### Projet Laptop ####\n",
    "- Le but est de prédire les prix des laptop, l'unité est ₹\n",
    "- Vous allez appliqué tout le process qu'on a vu ensemble\n",
    "- Vous devez aussi créer et déployer une application web qui exploite les solutions proposées   \n",
    "en utilisant streamlit et Heroku \n"
   ]
  },
  {
   "cell_type": "markdown",
   "id": "067fe715",
   "metadata": {},
   "source": [
    "## Consignes, conseils et remarques :\n",
    "- ➢ Le code doit être commenté.\n",
    "- ➢ Le projet sera sur Gitlab. \n",
    "    - Il y aura plusieurs branches :\n",
    "        - Main/Master : branche de production\n",
    "        - Test : pour tester les fonctionnalités avant de les merger sur la branche de production\n",
    "        - Dev : branche de développement des sprints\n",
    "        - Une branche par tâches : le développement des différentes fonctionnalités ne se feront pas directement sur  la branche DEV, mais sur des branches prévues à  cette effet\n",
    "- ➢ Le projet commencera par un sprint 0 qui consistera à :\n",
    "    - Bien analyser le projet permettant de trouver le workflow à suivre pour répondre à la question\n",
    "    - ➢ sprint 1 qui consistera à analyser et traiter les données (analyses univariés, bivariés, visualisation, EDA, ...)\n",
    "    - ➢ sprint 2 qui consistera à créer et optimiser des modèles  de ML\n",
    "    - ➢ sprint 3 qui consistera à créer & déployer  une application web avec streamlit Heroku\n"
   ]
  },
  {
   "cell_type": "code",
   "execution_count": 376,
   "id": "9a98b892",
   "metadata": {},
   "outputs": [],
   "source": [
    "####Importation des packagins :\n",
    "\n",
    "import pandas as pd\n",
    "import numpy as np\n",
    "\n",
    "#Packaging de visualisation\n",
    "import seaborn as sns\n",
    "import matplotlib.pyplot as plt\n",
    "\n",
    "#packaging preprocessing\n",
    "from sklearn.preprocessing import OrdinalEncoder\n",
    "\n",
    "#selection de model\n",
    "from sklearn.model_selection import GridSearchCV, KFold, cross_val_score\n",
    "from sklearn.feature_selection import RFE\n",
    "from sklearn.pipeline import Pipeline\n",
    "\n",
    "#packaging model\n",
    "from sklearn.tree import DecisionTreeRegressor\n",
    "from sklearn.ensemble import RandomForestRegressor\n",
    "\n",
    "\n",
    "from sklearn.neighbors import KNeighborsRegressor\n",
    "from sklearn.linear_model import LinearRegression\n",
    "\n",
    "#packagng metrics\n",
    "from sklearn.metrics import make_scorer, mean_squared_error\n",
    "\n",
    "\n",
    "\n",
    "import warnings\n",
    "warnings.filterwarnings('ignore')"
   ]
  },
  {
   "cell_type": "code",
   "execution_count": 377,
   "id": "648599b8",
   "metadata": {},
   "outputs": [],
   "source": [
    "laptop = pd.read_csv('laptop_data.csv', index_col=0)\n",
    "df = laptop.copy()"
   ]
  },
  {
   "cell_type": "markdown",
   "id": "710b9521",
   "metadata": {},
   "source": [
    "# Démarche à suivre : \n",
    "\n",
    "\n",
    "## Sprint 1 : \n",
    "- 1. Prise de connaissance de notre BDD : \n",
    "    - Description des colonnes \n",
    "    - Nombre de features \n",
    "    - Type de features  \n",
    "        - continue, discrete, ordinale, nominale \n",
    "    - type de la target (continue/discrete) ?\n",
    "    - Données manquantes ?\n",
    "        - vrai NaN ou information sur l'absence d'un element d'une colonne ?\n",
    "- 2. Analyse univariée (Imputing ou nettoyage des NaN) :\n",
    "    - variables categoriques : countplot et remplacement par le mode\n",
    "    - variables numeriques : boxplot et remplacement par la moyenne (ou mediane si trop d'outliers)\n",
    "- 3. Analyse bi-variée (target vs features) : \n",
    "    - Si categorique vs continue : boxplot **ANOVA**\n",
    "    - Si variable categorique vs categorique : **Khi2**\n",
    "    - Si variable continue vs continue : **corrélation**\n",
    "\n",
    "- 4. Encodage des données:\n",
    "    - variable categorique  = variables ordinale, nominale et discrete :\n",
    "        - on encode les variables nominales et ordinales \n",
    "- 5. Normalisation des données : \n",
    "\n",
    "- 6. Sauvegarde et exportation des données nettoyées\n",
    "\n",
    "## Sprint 2 : \n",
    "\n",
    "### Creation de n notebook,  chacun d'entre eux prendront un modèle différent\n",
    "\n",
    "- 1. Création du modèle \n",
    "- 2. Mesure de la performence du modèle \n",
    "- 3. Amélioration du modèle\n",
    "    - select features, gridsearch, ..\n",
    "- 4. mesure performence du modèle amélioré\n",
    "\n",
    "## Sprint 3 : \n",
    "\n",
    "- Création & déploiment d'une application web avec streamlit Heroku"
   ]
  },
  {
   "cell_type": "markdown",
   "id": "52061870",
   "metadata": {},
   "source": [
    "# Sprint 1 \n",
    "## 1. Analyse de la BDD"
   ]
  },
  {
   "cell_type": "code",
   "execution_count": 378,
   "id": "422a5c23",
   "metadata": {},
   "outputs": [
    {
     "data": {
      "text/html": [
       "<div>\n",
       "<style scoped>\n",
       "    .dataframe tbody tr th:only-of-type {\n",
       "        vertical-align: middle;\n",
       "    }\n",
       "\n",
       "    .dataframe tbody tr th {\n",
       "        vertical-align: top;\n",
       "    }\n",
       "\n",
       "    .dataframe thead th {\n",
       "        text-align: right;\n",
       "    }\n",
       "</style>\n",
       "<table border=\"1\" class=\"dataframe\">\n",
       "  <thead>\n",
       "    <tr style=\"text-align: right;\">\n",
       "      <th></th>\n",
       "      <th>Company</th>\n",
       "      <th>TypeName</th>\n",
       "      <th>Inches</th>\n",
       "      <th>ScreenResolution</th>\n",
       "      <th>Cpu</th>\n",
       "      <th>Ram</th>\n",
       "      <th>Memory</th>\n",
       "      <th>Gpu</th>\n",
       "      <th>OpSys</th>\n",
       "      <th>Weight</th>\n",
       "      <th>Price</th>\n",
       "    </tr>\n",
       "  </thead>\n",
       "  <tbody>\n",
       "    <tr>\n",
       "      <th>0</th>\n",
       "      <td>Apple</td>\n",
       "      <td>Ultrabook</td>\n",
       "      <td>13.3</td>\n",
       "      <td>IPS Panel Retina Display 2560x1600</td>\n",
       "      <td>Intel Core i5 2.3GHz</td>\n",
       "      <td>8GB</td>\n",
       "      <td>128GB SSD</td>\n",
       "      <td>Intel Iris Plus Graphics 640</td>\n",
       "      <td>macOS</td>\n",
       "      <td>1.37kg</td>\n",
       "      <td>71378.6832</td>\n",
       "    </tr>\n",
       "    <tr>\n",
       "      <th>1</th>\n",
       "      <td>Apple</td>\n",
       "      <td>Ultrabook</td>\n",
       "      <td>13.3</td>\n",
       "      <td>1440x900</td>\n",
       "      <td>Intel Core i5 1.8GHz</td>\n",
       "      <td>8GB</td>\n",
       "      <td>128GB Flash Storage</td>\n",
       "      <td>Intel HD Graphics 6000</td>\n",
       "      <td>macOS</td>\n",
       "      <td>1.34kg</td>\n",
       "      <td>47895.5232</td>\n",
       "    </tr>\n",
       "    <tr>\n",
       "      <th>2</th>\n",
       "      <td>HP</td>\n",
       "      <td>Notebook</td>\n",
       "      <td>15.6</td>\n",
       "      <td>Full HD 1920x1080</td>\n",
       "      <td>Intel Core i5 7200U 2.5GHz</td>\n",
       "      <td>8GB</td>\n",
       "      <td>256GB SSD</td>\n",
       "      <td>Intel HD Graphics 620</td>\n",
       "      <td>No OS</td>\n",
       "      <td>1.86kg</td>\n",
       "      <td>30636.0000</td>\n",
       "    </tr>\n",
       "    <tr>\n",
       "      <th>3</th>\n",
       "      <td>Apple</td>\n",
       "      <td>Ultrabook</td>\n",
       "      <td>15.4</td>\n",
       "      <td>IPS Panel Retina Display 2880x1800</td>\n",
       "      <td>Intel Core i7 2.7GHz</td>\n",
       "      <td>16GB</td>\n",
       "      <td>512GB SSD</td>\n",
       "      <td>AMD Radeon Pro 455</td>\n",
       "      <td>macOS</td>\n",
       "      <td>1.83kg</td>\n",
       "      <td>135195.3360</td>\n",
       "    </tr>\n",
       "    <tr>\n",
       "      <th>4</th>\n",
       "      <td>Apple</td>\n",
       "      <td>Ultrabook</td>\n",
       "      <td>13.3</td>\n",
       "      <td>IPS Panel Retina Display 2560x1600</td>\n",
       "      <td>Intel Core i5 3.1GHz</td>\n",
       "      <td>8GB</td>\n",
       "      <td>256GB SSD</td>\n",
       "      <td>Intel Iris Plus Graphics 650</td>\n",
       "      <td>macOS</td>\n",
       "      <td>1.37kg</td>\n",
       "      <td>96095.8080</td>\n",
       "    </tr>\n",
       "  </tbody>\n",
       "</table>\n",
       "</div>"
      ],
      "text/plain": [
       "  Company   TypeName  Inches                    ScreenResolution  \\\n",
       "0   Apple  Ultrabook    13.3  IPS Panel Retina Display 2560x1600   \n",
       "1   Apple  Ultrabook    13.3                            1440x900   \n",
       "2      HP   Notebook    15.6                   Full HD 1920x1080   \n",
       "3   Apple  Ultrabook    15.4  IPS Panel Retina Display 2880x1800   \n",
       "4   Apple  Ultrabook    13.3  IPS Panel Retina Display 2560x1600   \n",
       "\n",
       "                          Cpu   Ram               Memory  \\\n",
       "0        Intel Core i5 2.3GHz   8GB            128GB SSD   \n",
       "1        Intel Core i5 1.8GHz   8GB  128GB Flash Storage   \n",
       "2  Intel Core i5 7200U 2.5GHz   8GB            256GB SSD   \n",
       "3        Intel Core i7 2.7GHz  16GB            512GB SSD   \n",
       "4        Intel Core i5 3.1GHz   8GB            256GB SSD   \n",
       "\n",
       "                            Gpu  OpSys  Weight        Price  \n",
       "0  Intel Iris Plus Graphics 640  macOS  1.37kg   71378.6832  \n",
       "1        Intel HD Graphics 6000  macOS  1.34kg   47895.5232  \n",
       "2         Intel HD Graphics 620  No OS  1.86kg   30636.0000  \n",
       "3            AMD Radeon Pro 455  macOS  1.83kg  135195.3360  \n",
       "4  Intel Iris Plus Graphics 650  macOS  1.37kg   96095.8080  "
      ]
     },
     "execution_count": 378,
     "metadata": {},
     "output_type": "execute_result"
    }
   ],
   "source": [
    "df.head()"
   ]
  },
  {
   "cell_type": "code",
   "execution_count": 379,
   "id": "90fb3367",
   "metadata": {
    "scrolled": true
   },
   "outputs": [
    {
     "data": {
      "text/plain": [
       "(1303, 11)"
      ]
     },
     "execution_count": 379,
     "metadata": {},
     "output_type": "execute_result"
    }
   ],
   "source": [
    "df.shape"
   ]
  },
  {
   "cell_type": "code",
   "execution_count": 380,
   "id": "8a6d7114",
   "metadata": {},
   "outputs": [
    {
     "name": "stdout",
     "output_type": "stream",
     "text": [
      "<class 'pandas.core.frame.DataFrame'>\n",
      "Int64Index: 1303 entries, 0 to 1302\n",
      "Data columns (total 11 columns):\n",
      " #   Column            Non-Null Count  Dtype  \n",
      "---  ------            --------------  -----  \n",
      " 0   Company           1303 non-null   object \n",
      " 1   TypeName          1303 non-null   object \n",
      " 2   Inches            1303 non-null   float64\n",
      " 3   ScreenResolution  1303 non-null   object \n",
      " 4   Cpu               1303 non-null   object \n",
      " 5   Ram               1303 non-null   object \n",
      " 6   Memory            1303 non-null   object \n",
      " 7   Gpu               1303 non-null   object \n",
      " 8   OpSys             1303 non-null   object \n",
      " 9   Weight            1303 non-null   object \n",
      " 10  Price             1303 non-null   float64\n",
      "dtypes: float64(2), object(9)\n",
      "memory usage: 122.2+ KB\n"
     ]
    }
   ],
   "source": [
    "df.info()"
   ]
  },
  {
   "cell_type": "code",
   "execution_count": 381,
   "id": "e1586177",
   "metadata": {},
   "outputs": [
    {
     "data": {
      "text/plain": [
       "179"
      ]
     },
     "execution_count": 381,
     "metadata": {},
     "output_type": "execute_result"
    }
   ],
   "source": [
    "df.Weight.nunique()"
   ]
  },
  {
   "cell_type": "code",
   "execution_count": 382,
   "id": "bb326255",
   "metadata": {
    "scrolled": false
   },
   "outputs": [
    {
     "data": {
      "text/plain": [
       "Company             0\n",
       "TypeName            0\n",
       "Inches              0\n",
       "ScreenResolution    0\n",
       "Cpu                 0\n",
       "Ram                 0\n",
       "Memory              0\n",
       "Gpu                 0\n",
       "OpSys               0\n",
       "Weight              0\n",
       "Price               0\n",
       "dtype: int64"
      ]
     },
     "execution_count": 382,
     "metadata": {},
     "output_type": "execute_result"
    }
   ],
   "source": [
    "df.isnull().sum()"
   ]
  },
  {
   "cell_type": "code",
   "execution_count": 383,
   "id": "5931925d",
   "metadata": {},
   "outputs": [
    {
     "name": "stdout",
     "output_type": "stream",
     "text": [
      "TypeName : \n",
      "mode = 6 \n",
      " ['Ultrabook' 'Notebook' 'Netbook' 'Gaming' '2 in 1 Convertible']\n",
      "\n",
      "Ram : \n",
      "mode = 9 \n",
      " ['8GB' '16GB' '4GB' '2GB' '12GB']\n",
      "\n",
      "OpSys : \n",
      "mode = 9 \n",
      " ['macOS' 'No OS' 'Windows 10' 'Mac OS X' 'Linux']\n",
      "\n",
      "Inches : \n",
      "mode = 18 \n",
      " [13.3 15.6 15.4 14.  12. ]\n",
      "\n",
      "Company : \n",
      "mode = 19 \n",
      " ['Apple' 'HP' 'Acer' 'Asus' 'Dell']\n",
      "\n",
      "Memory : \n",
      "mode = 39 \n",
      " ['128GB SSD' '128GB Flash Storage' '256GB SSD' '512GB SSD' '500GB HDD']\n",
      "\n",
      "ScreenResolution : \n",
      "mode = 40 \n",
      " ['IPS Panel Retina Display 2560x1600' '1440x900' 'Full HD 1920x1080'\n",
      " 'IPS Panel Retina Display 2880x1800' '1366x768']\n",
      "\n"
     ]
    }
   ],
   "source": [
    "for i in df.nunique().sort_values().index:\n",
    "    if df[i].nunique()<=40:\n",
    "        print(f\"{i} : \\nmode = {df[i].nunique()} \\n {df[i].unique()[:5]}\\n\")\n",
    "#on obtient uniquement des variables categoriques"
   ]
  },
  {
   "cell_type": "code",
   "execution_count": 384,
   "id": "2d5d7b08",
   "metadata": {},
   "outputs": [
    {
     "name": "stdout",
     "output_type": "stream",
     "text": [
      "Gpu : \n",
      "mode = 110 \n",
      " ['Intel Iris Plus Graphics 640' 'Intel HD Graphics 6000'\n",
      " 'Intel HD Graphics 620' 'AMD Radeon Pro 455'\n",
      " 'Intel Iris Plus Graphics 650']\n",
      "\n",
      "Cpu : \n",
      "mode = 118 \n",
      " ['Intel Core i5 2.3GHz' 'Intel Core i5 1.8GHz'\n",
      " 'Intel Core i5 7200U 2.5GHz' 'Intel Core i7 2.7GHz'\n",
      " 'Intel Core i5 3.1GHz']\n",
      "\n",
      "Weight : \n",
      "mode = 179 \n",
      " ['1.37kg' '1.34kg' '1.86kg' '1.83kg' '2.1kg']\n",
      "\n",
      "Price : \n",
      "mode = 791 \n",
      " [ 71378.6832  47895.5232  30636.     135195.336   96095.808 ]\n",
      "\n"
     ]
    }
   ],
   "source": [
    "for i in df.nunique().sort_values().index:\n",
    "    if df[i].nunique()>40:\n",
    "        print(f\"{i} : \\nmode = {df[i].nunique()} \\n {df[i].unique()[:5]}\\n\")\n",
    "#Seule price et Weight sont des variables numériques continues"
   ]
  },
  {
   "cell_type": "markdown",
   "id": "ba040ed4",
   "metadata": {},
   "source": [
    "**Récupération de la target**"
   ]
  },
  {
   "cell_type": "code",
   "execution_count": 403,
   "id": "e7d5b607",
   "metadata": {},
   "outputs": [],
   "source": [
    "target = df.Price"
   ]
  },
  {
   "cell_type": "markdown",
   "id": "431b5631",
   "metadata": {},
   "source": [
    "## Bilan de l'analyse : \n",
    "\n",
    "- 11 colonnes dont une target **Price** de type **continue**\n",
    "- **Pas de données manquantes**\n",
    "- 10 features : \n",
    "    - **1 numérique continue** : **Weight**\n",
    "    - **8 catégoriques** dont :\n",
    "        - **1 discrètes** : **Inches**\n",
    "\n",
    "- Parmis nos variables categoriques, 2 prennent plus de 100 valeurs différente : **Cpu, Gpu**.\n",
    "\n",
    "- A noter que d'autres variables catégoriques prennent beaucoup de modalité aussi : **ScreenResolution, Memory**.\n",
    "\n",
    "- Il faudra aussi **réencoder** la variable **Weight** afin de la transformer en **float**\n",
    "\n",
    "\n",
    "#### Commençons par travailler sur Cpu et Gpu, et regardons s'il est possible de réduire le nombre de modalité :"
   ]
  },
  {
   "cell_type": "code",
   "execution_count": 385,
   "id": "c4a2cada",
   "metadata": {},
   "outputs": [
    {
     "data": {
      "text/html": [
       "<div>\n",
       "<style scoped>\n",
       "    .dataframe tbody tr th:only-of-type {\n",
       "        vertical-align: middle;\n",
       "    }\n",
       "\n",
       "    .dataframe tbody tr th {\n",
       "        vertical-align: top;\n",
       "    }\n",
       "\n",
       "    .dataframe thead th {\n",
       "        text-align: right;\n",
       "    }\n",
       "</style>\n",
       "<table border=\"1\" class=\"dataframe\">\n",
       "  <thead>\n",
       "    <tr style=\"text-align: right;\">\n",
       "      <th></th>\n",
       "      <th>Cpu</th>\n",
       "      <th>Gpu</th>\n",
       "    </tr>\n",
       "  </thead>\n",
       "  <tbody>\n",
       "    <tr>\n",
       "      <th>0</th>\n",
       "      <td>Intel Core i5 2.3GHz</td>\n",
       "      <td>Intel Iris Plus Graphics 640</td>\n",
       "    </tr>\n",
       "    <tr>\n",
       "      <th>1</th>\n",
       "      <td>Intel Core i5 1.8GHz</td>\n",
       "      <td>Intel HD Graphics 6000</td>\n",
       "    </tr>\n",
       "    <tr>\n",
       "      <th>2</th>\n",
       "      <td>Intel Core i5 7200U 2.5GHz</td>\n",
       "      <td>Intel HD Graphics 620</td>\n",
       "    </tr>\n",
       "    <tr>\n",
       "      <th>3</th>\n",
       "      <td>Intel Core i7 2.7GHz</td>\n",
       "      <td>AMD Radeon Pro 455</td>\n",
       "    </tr>\n",
       "    <tr>\n",
       "      <th>4</th>\n",
       "      <td>Intel Core i5 3.1GHz</td>\n",
       "      <td>Intel Iris Plus Graphics 650</td>\n",
       "    </tr>\n",
       "    <tr>\n",
       "      <th>5</th>\n",
       "      <td>AMD A9-Series 9420 3GHz</td>\n",
       "      <td>AMD Radeon R5</td>\n",
       "    </tr>\n",
       "    <tr>\n",
       "      <th>6</th>\n",
       "      <td>Intel Core i7 2.2GHz</td>\n",
       "      <td>Intel Iris Pro Graphics</td>\n",
       "    </tr>\n",
       "    <tr>\n",
       "      <th>7</th>\n",
       "      <td>Intel Core i5 1.8GHz</td>\n",
       "      <td>Intel HD Graphics 6000</td>\n",
       "    </tr>\n",
       "    <tr>\n",
       "      <th>8</th>\n",
       "      <td>Intel Core i7 8550U 1.8GHz</td>\n",
       "      <td>Nvidia GeForce MX150</td>\n",
       "    </tr>\n",
       "    <tr>\n",
       "      <th>9</th>\n",
       "      <td>Intel Core i5 8250U 1.6GHz</td>\n",
       "      <td>Intel UHD Graphics 620</td>\n",
       "    </tr>\n",
       "    <tr>\n",
       "      <th>10</th>\n",
       "      <td>Intel Core i5 7200U 2.5GHz</td>\n",
       "      <td>Intel HD Graphics 620</td>\n",
       "    </tr>\n",
       "  </tbody>\n",
       "</table>\n",
       "</div>"
      ],
      "text/plain": [
       "                           Cpu                           Gpu\n",
       "0         Intel Core i5 2.3GHz  Intel Iris Plus Graphics 640\n",
       "1         Intel Core i5 1.8GHz        Intel HD Graphics 6000\n",
       "2   Intel Core i5 7200U 2.5GHz         Intel HD Graphics 620\n",
       "3         Intel Core i7 2.7GHz            AMD Radeon Pro 455\n",
       "4         Intel Core i5 3.1GHz  Intel Iris Plus Graphics 650\n",
       "5      AMD A9-Series 9420 3GHz                 AMD Radeon R5\n",
       "6         Intel Core i7 2.2GHz       Intel Iris Pro Graphics\n",
       "7         Intel Core i5 1.8GHz        Intel HD Graphics 6000\n",
       "8   Intel Core i7 8550U 1.8GHz          Nvidia GeForce MX150\n",
       "9   Intel Core i5 8250U 1.6GHz        Intel UHD Graphics 620\n",
       "10  Intel Core i5 7200U 2.5GHz         Intel HD Graphics 620"
      ]
     },
     "execution_count": 385,
     "metadata": {},
     "output_type": "execute_result"
    }
   ],
   "source": [
    "df.loc[:10,['Cpu','Gpu']]"
   ]
  },
  {
   "cell_type": "markdown",
   "id": "fb1ed630",
   "metadata": {},
   "source": [
    "**Observations :** \n",
    "- Dans un premier temps, essayons de réduire le nombre de modalité en capturant uniquement le premier mot pour chaque itération\n",
    "\n",
    "### Réduction des modalités : "
   ]
  },
  {
   "cell_type": "code",
   "execution_count": 386,
   "id": "1ef15124",
   "metadata": {},
   "outputs": [],
   "source": [
    "Gpu_enc = []\n",
    "for i in df.Gpu.str.split(' '):\n",
    "    Gpu_enc.append(i[0])"
   ]
  },
  {
   "cell_type": "code",
   "execution_count": 387,
   "id": "a365cbda",
   "metadata": {
    "scrolled": true
   },
   "outputs": [
    {
     "data": {
      "text/plain": [
       "array(['Intel', 'AMD', 'Nvidia', 'ARM'], dtype=object)"
      ]
     },
     "execution_count": 387,
     "metadata": {},
     "output_type": "execute_result"
    }
   ],
   "source": [
    "pd.Series(Gpu_enc).unique()"
   ]
  },
  {
   "cell_type": "code",
   "execution_count": 388,
   "id": "a41c6e34",
   "metadata": {},
   "outputs": [],
   "source": [
    "Cpu_enc = []\n",
    "for i in df.Cpu.str.split(' '):\n",
    "    Cpu_enc.append(i[0])"
   ]
  },
  {
   "cell_type": "code",
   "execution_count": 389,
   "id": "a57f0543",
   "metadata": {},
   "outputs": [
    {
     "data": {
      "text/plain": [
       "array(['Intel', 'AMD', 'Samsung'], dtype=object)"
      ]
     },
     "execution_count": 389,
     "metadata": {},
     "output_type": "execute_result"
    }
   ],
   "source": [
    "pd.Series(Cpu_enc).unique()"
   ]
  },
  {
   "cell_type": "markdown",
   "id": "fa4e41f7",
   "metadata": {},
   "source": [
    "**Observations :**\n",
    "- On est passé de plus de 100 modalités différentes a moins de 5\n",
    "\n",
    "#### Remplacement des anciennes features par ces deux nouvelles :"
   ]
  },
  {
   "cell_type": "code",
   "execution_count": 390,
   "id": "59bd0caa",
   "metadata": {},
   "outputs": [],
   "source": [
    "df.Gpu, df.Cpu = Gpu_enc, Cpu_enc"
   ]
  },
  {
   "cell_type": "code",
   "execution_count": 391,
   "id": "71603832",
   "metadata": {},
   "outputs": [
    {
     "data": {
      "text/html": [
       "<div>\n",
       "<style scoped>\n",
       "    .dataframe tbody tr th:only-of-type {\n",
       "        vertical-align: middle;\n",
       "    }\n",
       "\n",
       "    .dataframe tbody tr th {\n",
       "        vertical-align: top;\n",
       "    }\n",
       "\n",
       "    .dataframe thead th {\n",
       "        text-align: right;\n",
       "    }\n",
       "</style>\n",
       "<table border=\"1\" class=\"dataframe\">\n",
       "  <thead>\n",
       "    <tr style=\"text-align: right;\">\n",
       "      <th></th>\n",
       "      <th>Company</th>\n",
       "      <th>TypeName</th>\n",
       "      <th>Inches</th>\n",
       "      <th>ScreenResolution</th>\n",
       "      <th>Cpu</th>\n",
       "      <th>Ram</th>\n",
       "      <th>Memory</th>\n",
       "      <th>Gpu</th>\n",
       "      <th>OpSys</th>\n",
       "      <th>Weight</th>\n",
       "      <th>Price</th>\n",
       "    </tr>\n",
       "  </thead>\n",
       "  <tbody>\n",
       "    <tr>\n",
       "      <th>0</th>\n",
       "      <td>Apple</td>\n",
       "      <td>Ultrabook</td>\n",
       "      <td>13.3</td>\n",
       "      <td>IPS Panel Retina Display 2560x1600</td>\n",
       "      <td>Intel</td>\n",
       "      <td>8GB</td>\n",
       "      <td>128GB SSD</td>\n",
       "      <td>Intel</td>\n",
       "      <td>macOS</td>\n",
       "      <td>1.37kg</td>\n",
       "      <td>71378.6832</td>\n",
       "    </tr>\n",
       "    <tr>\n",
       "      <th>1</th>\n",
       "      <td>Apple</td>\n",
       "      <td>Ultrabook</td>\n",
       "      <td>13.3</td>\n",
       "      <td>1440x900</td>\n",
       "      <td>Intel</td>\n",
       "      <td>8GB</td>\n",
       "      <td>128GB Flash Storage</td>\n",
       "      <td>Intel</td>\n",
       "      <td>macOS</td>\n",
       "      <td>1.34kg</td>\n",
       "      <td>47895.5232</td>\n",
       "    </tr>\n",
       "    <tr>\n",
       "      <th>2</th>\n",
       "      <td>HP</td>\n",
       "      <td>Notebook</td>\n",
       "      <td>15.6</td>\n",
       "      <td>Full HD 1920x1080</td>\n",
       "      <td>Intel</td>\n",
       "      <td>8GB</td>\n",
       "      <td>256GB SSD</td>\n",
       "      <td>Intel</td>\n",
       "      <td>No OS</td>\n",
       "      <td>1.86kg</td>\n",
       "      <td>30636.0000</td>\n",
       "    </tr>\n",
       "    <tr>\n",
       "      <th>3</th>\n",
       "      <td>Apple</td>\n",
       "      <td>Ultrabook</td>\n",
       "      <td>15.4</td>\n",
       "      <td>IPS Panel Retina Display 2880x1800</td>\n",
       "      <td>Intel</td>\n",
       "      <td>16GB</td>\n",
       "      <td>512GB SSD</td>\n",
       "      <td>AMD</td>\n",
       "      <td>macOS</td>\n",
       "      <td>1.83kg</td>\n",
       "      <td>135195.3360</td>\n",
       "    </tr>\n",
       "    <tr>\n",
       "      <th>4</th>\n",
       "      <td>Apple</td>\n",
       "      <td>Ultrabook</td>\n",
       "      <td>13.3</td>\n",
       "      <td>IPS Panel Retina Display 2560x1600</td>\n",
       "      <td>Intel</td>\n",
       "      <td>8GB</td>\n",
       "      <td>256GB SSD</td>\n",
       "      <td>Intel</td>\n",
       "      <td>macOS</td>\n",
       "      <td>1.37kg</td>\n",
       "      <td>96095.8080</td>\n",
       "    </tr>\n",
       "  </tbody>\n",
       "</table>\n",
       "</div>"
      ],
      "text/plain": [
       "  Company   TypeName  Inches                    ScreenResolution    Cpu   Ram  \\\n",
       "0   Apple  Ultrabook    13.3  IPS Panel Retina Display 2560x1600  Intel   8GB   \n",
       "1   Apple  Ultrabook    13.3                            1440x900  Intel   8GB   \n",
       "2      HP   Notebook    15.6                   Full HD 1920x1080  Intel   8GB   \n",
       "3   Apple  Ultrabook    15.4  IPS Panel Retina Display 2880x1800  Intel  16GB   \n",
       "4   Apple  Ultrabook    13.3  IPS Panel Retina Display 2560x1600  Intel   8GB   \n",
       "\n",
       "                Memory    Gpu  OpSys  Weight        Price  \n",
       "0            128GB SSD  Intel  macOS  1.37kg   71378.6832  \n",
       "1  128GB Flash Storage  Intel  macOS  1.34kg   47895.5232  \n",
       "2            256GB SSD  Intel  No OS  1.86kg   30636.0000  \n",
       "3            512GB SSD    AMD  macOS  1.83kg  135195.3360  \n",
       "4            256GB SSD  Intel  macOS  1.37kg   96095.8080  "
      ]
     },
     "execution_count": 391,
     "metadata": {},
     "output_type": "execute_result"
    }
   ],
   "source": [
    "df.head()"
   ]
  },
  {
   "cell_type": "markdown",
   "id": "2d2b5bf3",
   "metadata": {},
   "source": [
    "### Réitérons pour ScreenResolution :"
   ]
  },
  {
   "cell_type": "code",
   "execution_count": 402,
   "id": "68671def",
   "metadata": {},
   "outputs": [
    {
     "data": {
      "text/plain": [
       "array(['IPS Panel Retina Display 2560x1600', '1440x900',\n",
       "       'Full HD 1920x1080', 'IPS Panel Retina Display 2880x1800',\n",
       "       '1366x768', 'IPS Panel Full HD 1920x1080',\n",
       "       'IPS Panel Retina Display 2304x1440',\n",
       "       'IPS Panel Full HD / Touchscreen 1920x1080',\n",
       "       'Full HD / Touchscreen 1920x1080',\n",
       "       'Touchscreen / Quad HD+ 3200x1800',\n",
       "       'IPS Panel Touchscreen 1920x1200', 'Touchscreen 2256x1504',\n",
       "       'Quad HD+ / Touchscreen 3200x1800', 'IPS Panel 1366x768',\n",
       "       'IPS Panel 4K Ultra HD / Touchscreen 3840x2160',\n",
       "       'IPS Panel Full HD 2160x1440',\n",
       "       '4K Ultra HD / Touchscreen 3840x2160', 'Touchscreen 2560x1440',\n",
       "       '1600x900', 'IPS Panel 4K Ultra HD 3840x2160',\n",
       "       '4K Ultra HD 3840x2160', 'Touchscreen 1366x768',\n",
       "       'IPS Panel Full HD 1366x768', 'IPS Panel 2560x1440',\n",
       "       'IPS Panel Full HD 2560x1440',\n",
       "       'IPS Panel Retina Display 2736x1824', 'Touchscreen 2400x1600',\n",
       "       '2560x1440', 'IPS Panel Quad HD+ 2560x1440',\n",
       "       'IPS Panel Quad HD+ 3200x1800',\n",
       "       'IPS Panel Quad HD+ / Touchscreen 3200x1800',\n",
       "       'IPS Panel Touchscreen 1366x768', '1920x1080',\n",
       "       'IPS Panel Full HD 1920x1200',\n",
       "       'IPS Panel Touchscreen / 4K Ultra HD 3840x2160',\n",
       "       'IPS Panel Touchscreen 2560x1440',\n",
       "       'Touchscreen / Full HD 1920x1080', 'Quad HD+ 3200x1800',\n",
       "       'Touchscreen / 4K Ultra HD 3840x2160',\n",
       "       'IPS Panel Touchscreen 2400x1600'], dtype=object)"
      ]
     },
     "execution_count": 402,
     "metadata": {},
     "output_type": "execute_result"
    }
   ],
   "source": [
    "df.ScreenResolution.unique()"
   ]
  },
  {
   "cell_type": "code",
   "execution_count": 392,
   "id": "944a73bb",
   "metadata": {},
   "outputs": [
    {
     "data": {
      "text/html": [
       "<div>\n",
       "<style scoped>\n",
       "    .dataframe tbody tr th:only-of-type {\n",
       "        vertical-align: middle;\n",
       "    }\n",
       "\n",
       "    .dataframe tbody tr th {\n",
       "        vertical-align: top;\n",
       "    }\n",
       "\n",
       "    .dataframe thead th {\n",
       "        text-align: right;\n",
       "    }\n",
       "</style>\n",
       "<table border=\"1\" class=\"dataframe\">\n",
       "  <thead>\n",
       "    <tr style=\"text-align: right;\">\n",
       "      <th></th>\n",
       "      <th>0</th>\n",
       "      <th>1</th>\n",
       "    </tr>\n",
       "  </thead>\n",
       "  <tbody>\n",
       "    <tr>\n",
       "      <th>0</th>\n",
       "      <td>IPS Panel Retina Display</td>\n",
       "      <td>2560x1600</td>\n",
       "    </tr>\n",
       "    <tr>\n",
       "      <th>1</th>\n",
       "      <td>1440x900</td>\n",
       "      <td>None</td>\n",
       "    </tr>\n",
       "    <tr>\n",
       "      <th>2</th>\n",
       "      <td>Full HD</td>\n",
       "      <td>1920x1080</td>\n",
       "    </tr>\n",
       "    <tr>\n",
       "      <th>3</th>\n",
       "      <td>IPS Panel Retina Display</td>\n",
       "      <td>2880x1800</td>\n",
       "    </tr>\n",
       "    <tr>\n",
       "      <th>4</th>\n",
       "      <td>IPS Panel Retina Display</td>\n",
       "      <td>2560x1600</td>\n",
       "    </tr>\n",
       "    <tr>\n",
       "      <th>...</th>\n",
       "      <td>...</td>\n",
       "      <td>...</td>\n",
       "    </tr>\n",
       "    <tr>\n",
       "      <th>1298</th>\n",
       "      <td>IPS Panel Full HD / Touchscreen</td>\n",
       "      <td>1920x1080</td>\n",
       "    </tr>\n",
       "    <tr>\n",
       "      <th>1299</th>\n",
       "      <td>IPS Panel Quad HD+ / Touchscreen</td>\n",
       "      <td>3200x1800</td>\n",
       "    </tr>\n",
       "    <tr>\n",
       "      <th>1300</th>\n",
       "      <td>1366x768</td>\n",
       "      <td>None</td>\n",
       "    </tr>\n",
       "    <tr>\n",
       "      <th>1301</th>\n",
       "      <td>1366x768</td>\n",
       "      <td>None</td>\n",
       "    </tr>\n",
       "    <tr>\n",
       "      <th>1302</th>\n",
       "      <td>1366x768</td>\n",
       "      <td>None</td>\n",
       "    </tr>\n",
       "  </tbody>\n",
       "</table>\n",
       "<p>1303 rows × 2 columns</p>\n",
       "</div>"
      ],
      "text/plain": [
       "                                     0          1\n",
       "0             IPS Panel Retina Display  2560x1600\n",
       "1                             1440x900       None\n",
       "2                              Full HD  1920x1080\n",
       "3             IPS Panel Retina Display  2880x1800\n",
       "4             IPS Panel Retina Display  2560x1600\n",
       "...                                ...        ...\n",
       "1298   IPS Panel Full HD / Touchscreen  1920x1080\n",
       "1299  IPS Panel Quad HD+ / Touchscreen  3200x1800\n",
       "1300                          1366x768       None\n",
       "1301                          1366x768       None\n",
       "1302                          1366x768       None\n",
       "\n",
       "[1303 rows x 2 columns]"
      ]
     },
     "execution_count": 392,
     "metadata": {},
     "output_type": "execute_result"
    }
   ],
   "source": [
    "df.ScreenResolution.str.rsplit(n = 1, expand=True) \n",
    "#n permet de definir le nombre de split, ici = 1 donc 1 split max\n",
    "#expand = True permet de separer en colonne (1 split, donc separation en 2 colonnes)"
   ]
  },
  {
   "cell_type": "code",
   "execution_count": 393,
   "id": "db650cad",
   "metadata": {},
   "outputs": [],
   "source": [
    "Screen_enc = df.ScreenResolution.str.rsplit(n = 1, expand=True)[0]"
   ]
  },
  {
   "cell_type": "code",
   "execution_count": 394,
   "id": "9e0851f6",
   "metadata": {
    "scrolled": true
   },
   "outputs": [
    {
     "name": "stdout",
     "output_type": "stream",
     "text": [
      "Ancien nombre de modalité : 40\n",
      "Nouveau nombre de modalité : 25\n",
      "Soit une réduction de  15 modalités\n"
     ]
    }
   ],
   "source": [
    "print(\"Ancien nombre de modalité :\", df.ScreenResolution.nunique())\n",
    "print(\"Nouveau nombre de modalité :\", Screen_enc.nunique())\n",
    "print(\"Soit une réduction de \",df.ScreenResolution.nunique()-Screen_enc.nunique(), \"modalités\")"
   ]
  },
  {
   "cell_type": "code",
   "execution_count": 395,
   "id": "95bef174",
   "metadata": {},
   "outputs": [],
   "source": [
    "#Remplacement de ScreenResolution par notre nouvelle variable : \n",
    "df.ScreenResolution = Screen_enc"
   ]
  },
  {
   "cell_type": "markdown",
   "id": "ca5279b7",
   "metadata": {},
   "source": [
    "###  Pour Memory :"
   ]
  },
  {
   "cell_type": "code",
   "execution_count": 400,
   "id": "df37d5e9",
   "metadata": {},
   "outputs": [
    {
     "data": {
      "text/plain": [
       "array(['128GB SSD', '128GB Flash Storage', '256GB SSD', '512GB SSD',\n",
       "       '500GB HDD', '256GB Flash Storage', '1TB HDD',\n",
       "       '32GB Flash Storage', '128GB SSD +  1TB HDD',\n",
       "       '256GB SSD +  256GB SSD', '64GB Flash Storage',\n",
       "       '256GB SSD +  1TB HDD', '256GB SSD +  2TB HDD', '32GB SSD',\n",
       "       '2TB HDD', '64GB SSD', '1.0TB Hybrid', '512GB SSD +  1TB HDD',\n",
       "       '1TB SSD', '256GB SSD +  500GB HDD', '128GB SSD +  2TB HDD',\n",
       "       '512GB SSD +  512GB SSD', '16GB SSD', '16GB Flash Storage',\n",
       "       '512GB SSD +  256GB SSD', '512GB SSD +  2TB HDD',\n",
       "       '64GB Flash Storage +  1TB HDD', '180GB SSD', '1TB HDD +  1TB HDD',\n",
       "       '32GB HDD', '1TB SSD +  1TB HDD', '512GB Flash Storage',\n",
       "       '128GB HDD', '240GB SSD', '8GB SSD', '508GB Hybrid', '1.0TB HDD',\n",
       "       '512GB SSD +  1.0TB Hybrid', '256GB SSD +  1.0TB Hybrid'],\n",
       "      dtype=object)"
      ]
     },
     "execution_count": 400,
     "metadata": {},
     "output_type": "execute_result"
    }
   ],
   "source": [
    "df.Memory.unique()"
   ]
  },
  {
   "cell_type": "markdown",
   "id": "f416678c",
   "metadata": {},
   "source": [
    "**Observation :**\n",
    "- Contrairement a ScreenResolution, ici chaque element d'une modalité apporte une information qui semble etre **pertinente**. Donc nous **n'allons pas réduire le nombre de modalité de Memory**"
   ]
  },
  {
   "cell_type": "markdown",
   "id": "7285c7b3",
   "metadata": {},
   "source": [
    "## Réencodage de weight"
   ]
  },
  {
   "cell_type": "code",
   "execution_count": 414,
   "id": "1a5f435d",
   "metadata": {},
   "outputs": [
    {
     "data": {
      "text/plain": [
       "array(['1.37kg', '1.34kg', '1.86kg', '1.83kg', '2.1kg', '2.04kg', '1.3kg',\n",
       "       '1.6kg', '2.2kg', '0.92kg', '1.22kg', '0.98kg', '2.5kg', '1.62kg',\n",
       "       '1.91kg', '2.3kg', '1.35kg', '1.88kg', '1.89kg', '1.65kg',\n",
       "       '2.71kg', '1.2kg', '1.44kg', '2.8kg', '2kg', '2.65kg', '2.77kg',\n",
       "       '3.2kg', '0.69kg', '1.49kg', '2.4kg', '2.13kg', '2.43kg', '1.7kg',\n",
       "       '1.4kg', '1.8kg', '1.9kg', '3kg', '1.252kg', '2.7kg', '2.02kg',\n",
       "       '1.63kg', '1.96kg', '1.21kg', '2.45kg', '1.25kg', '1.5kg',\n",
       "       '2.62kg', '1.38kg', '1.58kg', '1.85kg', '1.23kg', '1.26kg',\n",
       "       '2.16kg', '2.36kg', '2.05kg', '1.32kg', '1.75kg', '0.97kg',\n",
       "       '2.9kg', '2.56kg', '1.48kg', '1.74kg', '1.1kg', '1.56kg', '2.03kg',\n",
       "       '1.05kg', '4.4kg', '1.90kg', '1.29kg', '2.0kg', '1.95kg', '2.06kg',\n",
       "       '1.12kg', '1.42kg', '3.49kg', '3.35kg', '2.23kg', '4.42kg',\n",
       "       '2.69kg', '2.37kg', '4.7kg', '3.6kg', '2.08kg', '4.3kg', '1.68kg',\n",
       "       '1.41kg', '4.14kg', '2.18kg', '2.24kg', '2.67kg', '2.14kg',\n",
       "       '1.36kg', '2.25kg', '2.15kg', '2.19kg', '2.54kg', '3.42kg',\n",
       "       '1.28kg', '2.33kg', '1.45kg', '2.79kg', '1.84kg', '2.6kg',\n",
       "       '2.26kg', '3.25kg', '1.59kg', '1.13kg', '1.78kg', '1.10kg',\n",
       "       '1.15kg', '1.27kg', '1.43kg', '2.31kg', '1.16kg', '1.64kg',\n",
       "       '2.17kg', '1.47kg', '3.78kg', '1.79kg', '0.91kg', '1.99kg',\n",
       "       '4.33kg', '1.93kg', '1.87kg', '2.63kg', '3.4kg', '3.14kg',\n",
       "       '1.94kg', '1.24kg', '4.6kg', '4.5kg', '2.73kg', '1.39kg', '2.29kg',\n",
       "       '2.59kg', '2.94kg', '1.14kg', '3.8kg', '3.31kg', '1.09kg',\n",
       "       '3.21kg', '1.19kg', '1.98kg', '1.17kg', '4.36kg', '1.71kg',\n",
       "       '2.32kg', '4.2kg', '1.55kg', '0.81kg', '1.18kg', '2.72kg',\n",
       "       '1.31kg', '0.920kg', '3.74kg', '1.76kg', '1.54kg', '2.83kg',\n",
       "       '2.07kg', '2.38kg', '3.58kg', '1.08kg', '2.20kg', '2.75kg',\n",
       "       '1.70kg', '2.99kg', '1.11kg', '2.09kg', '4kg', '3.0kg', '0.99kg',\n",
       "       '3.52kg', '2.591kg', '2.21kg', '3.3kg', '2.191kg', '2.34kg',\n",
       "       '4.0kg'], dtype=object)"
      ]
     },
     "execution_count": 414,
     "metadata": {},
     "output_type": "execute_result"
    }
   ],
   "source": [
    "df.Weight.unique()"
   ]
  },
  {
   "cell_type": "code",
   "execution_count": null,
   "id": "95e444dd",
   "metadata": {},
   "outputs": [],
   "source": [
    "df['Weight'] = df.Weight.str.replace('kg', '').astype(float)"
   ]
  },
  {
   "cell_type": "markdown",
   "id": "8e07bee7",
   "metadata": {},
   "source": [
    "### Regardons de nouveau les modalités de chaque variables de notre dataframe : "
   ]
  },
  {
   "cell_type": "code",
   "execution_count": 420,
   "id": "f59578fe",
   "metadata": {},
   "outputs": [
    {
     "name": "stdout",
     "output_type": "stream",
     "text": [
      "Cpu : \n",
      "mode = 3 \n",
      " ['Intel' 'AMD' 'Samsung']\n",
      "\n",
      "Gpu : \n",
      "mode = 4 \n",
      " ['Intel' 'AMD' 'Nvidia' 'ARM']\n",
      "\n",
      "TypeName : \n",
      "mode = 6 \n",
      " ['Ultrabook' 'Notebook' 'Netbook' 'Gaming' '2 in 1 Convertible']\n",
      "\n",
      "Ram : \n",
      "mode = 9 \n",
      " ['8GB' '16GB' '4GB' '2GB' '12GB']\n",
      "\n",
      "OpSys : \n",
      "mode = 9 \n",
      " ['macOS' 'No OS' 'Windows 10' 'Mac OS X' 'Linux']\n",
      "\n",
      "Inches : \n",
      "mode = 18 \n",
      " [13.3 15.6 15.4 14.  12. ]\n",
      "\n",
      "Company : \n",
      "mode = 19 \n",
      " ['Apple' 'HP' 'Acer' 'Asus' 'Dell']\n",
      "\n",
      "ScreenResolution : \n",
      "mode = 25 \n",
      " ['IPS Panel Retina Display' '1440x900' 'Full HD' '1366x768'\n",
      " 'IPS Panel Full HD']\n",
      "\n",
      "Memory : \n",
      "mode = 39 \n",
      " ['128GB SSD' '128GB Flash Storage' '256GB SSD' '512GB SSD' '500GB HDD']\n",
      "\n"
     ]
    }
   ],
   "source": [
    "for i in df.nunique().sort_values().index:\n",
    "    if df[i].nunique()<=40:\n",
    "        print(f\"{i} : \\nmode = {df[i].nunique()} \\n {df[i].unique()[:5]}\\n\")\n",
    "#on obtient uniquement des variables categoriques"
   ]
  },
  {
   "cell_type": "code",
   "execution_count": 421,
   "id": "72378da7",
   "metadata": {
    "scrolled": true
   },
   "outputs": [
    {
     "name": "stdout",
     "output_type": "stream",
     "text": [
      "Weight : \n",
      "mode = 171 \n",
      " [1.37 1.34 1.86 1.83 2.1 ]\n",
      "\n",
      "Price : \n",
      "mode = 791 \n",
      " [ 71378.6832  47895.5232  30636.     135195.336   96095.808 ]\n",
      "\n"
     ]
    }
   ],
   "source": [
    "for i in df.nunique().sort_values().index:\n",
    "    if df[i].nunique()>40:\n",
    "        print(f\"{i} : \\nmode = {df[i].nunique()} \\n {df[i].unique()[:5]}\\n\")\n"
   ]
  },
  {
   "cell_type": "markdown",
   "id": "a6a5094c",
   "metadata": {},
   "source": [
    "## Bilan : \n",
    "Désormais nous avons une meilleure séparation avec **d'un côté** nos **variables catégoriques** (ordinales+nominales+discrètes) et de **l'autre** nos **variables continues**"
   ]
  },
  {
   "cell_type": "code",
   "execution_count": 398,
   "id": "cc21e9c3",
   "metadata": {},
   "outputs": [],
   "source": [
    "var_cat, var_cont = [], []\n",
    "for i in df.nunique().sort_values().index:\n",
    "    if df[i].nunique()>40:\n",
    "        var_cont.append(i)\n",
    "    else:\n",
    "        var_cat.append(i)"
   ]
  },
  {
   "cell_type": "markdown",
   "id": "68c0ce24",
   "metadata": {},
   "source": [
    "## 2. Imputing\n",
    "- Il n'y a pas de NaN donc nous passons cette étape\n",
    "\n",
    "## 3. Analyse bi-variée\n",
    "### 3.1 Target vs feature continue"
   ]
  },
  {
   "cell_type": "code",
   "execution_count": 443,
   "id": "67fd7b3a",
   "metadata": {
    "scrolled": true
   },
   "outputs": [
    {
     "data": {
      "image/png": "[encoded data removed]",
      "text/plain": [
       "<Figure size 432x288 with 2 Axes>"
      ]
     },
     "metadata": {
      "needs_background": "light"
     },
     "output_type": "display_data"
    }
   ],
   "source": [
    "ax = sns.heatmap(df[var_cont].corr(), annot = True, fmt = '.2%', cmap = 'mako')\n",
    "ax.set_title(f\"Test de corrélation entre nos variables continues : {var_cont}\")\n",
    "plt.show()"
   ]
  },
  {
   "cell_type": "markdown",
   "id": "3694e0a1",
   "metadata": {},
   "source": [
    "**Observation :**\n",
    "- Corrélation non pertinente (<50%) donc nous ne retiendront pas cette variable."
   ]
  },
  {
   "cell_type": "markdown",
   "id": "1e5b008d",
   "metadata": {},
   "source": [
    "### 3.1 Target vs features catégoriques"
   ]
  },
  {
   "cell_type": "code",
   "execution_count": null,
   "id": "3523f4d8",
   "metadata": {},
   "outputs": [],
   "source": [
    "fig, axe = plt.subplots(5,2, figsize=(8,8))\n",
    "for i in range(len(var_cat)):\n",
    "    nrow = i//2\n",
    "    ncol = i % 2\n",
    "    ax = sns.boxplot(x = df[var_cat[i]], y = target, ax=axe[nrow,ncol])"
   ]
  },
  {
   "cell_type": "code",
   "execution_count": null,
   "id": "154fdafe",
   "metadata": {},
   "outputs": [],
   "source": []
  }
 ],
 "metadata": {
  "kernelspec": {
   "display_name": "Python 3 (ipykernel)",
   "language": "python",
   "name": "python3"
  },
  "language_info": {
   "codemirror_mode": {
    "name": "ipython",
    "version": 3
   },
   "file_extension": ".py",
   "mimetype": "text/x-python",
   "name": "python",
   "nbconvert_exporter": "python",
   "pygments_lexer": "ipython3",
   "version": "3.8.13"
  }
 },
 "nbformat": 4,
 "nbformat_minor": 5
}
