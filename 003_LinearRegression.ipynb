{
 "cells": [
  {
   "cell_type": "code",
   "execution_count": 56,
   "id": "6f28c2ba",
   "metadata": {},
   "outputs": [],
   "source": [
    "####Importation des packagins :\n",
    "\n",
    "import pandas as pd\n",
    "import numpy as np\n",
    "\n",
    "#Packaging de visualisation\n",
    "import seaborn as sns\n",
    "import matplotlib.pyplot as plt\n",
    "\n",
    "#packaging preprocessing\n",
    "from sklearn.preprocessing import OrdinalEncoder\n",
    "\n",
    "#selection de model\n",
    "from sklearn.model_selection import GridSearchCV, KFold, cross_val_score\n",
    "from sklearn.feature_selection import RFE\n",
    "from sklearn.pipeline import Pipeline\n",
    "\n",
    "#packaging model\n",
    "from sklearn.tree import DecisionTreeRegressor\n",
    "from sklearn.ensemble import RandomForestRegressor\n",
    "\n",
    "\n",
    "from sklearn.neighbors import KNeighborsRegressor\n",
    "from sklearn.linear_model import LinearRegression\n",
    "\n",
    "#packagng metrics\n",
    "from sklearn.metrics import make_scorer, mean_squared_error\n",
    "\n",
    "\n",
    "\n",
    "import warnings\n",
    "warnings.filterwarnings('ignore')"
   ]
  },
  {
   "cell_type": "code",
   "execution_count": 57,
   "id": "9f81d1e2",
   "metadata": {},
   "outputs": [],
   "source": [
    "df = pd.read_csv('laptop_cleaned.csv')\n",
    "X,y = df.drop('Price', axis = 1), df['Price']"
   ]
  },
  {
   "cell_type": "markdown",
   "id": "02529c65",
   "metadata": {},
   "source": [
    "# 1. LinearRegression"
   ]
  },
  {
   "cell_type": "code",
   "execution_count": 58,
   "id": "35bb54ba",
   "metadata": {},
   "outputs": [],
   "source": [
    "LR = LinearRegression()\n",
    "cross = KFold(shuffle=True, random_state=42)"
   ]
  },
  {
   "cell_type": "code",
   "execution_count": 59,
   "id": "ec4c423a",
   "metadata": {},
   "outputs": [],
   "source": [
    "model_init = cross_val_score(estimator=LR, \n",
    "                X=X,y=y, \n",
    "                cv=cross,  \n",
    "                scoring=make_scorer(mean_squared_error))"
   ]
  },
  {
   "cell_type": "markdown",
   "id": "2ea58106",
   "metadata": {},
   "source": [
    "# 2. Mesure du score "
   ]
  },
  {
   "cell_type": "code",
   "execution_count": 60,
   "id": "0bb813e6",
   "metadata": {},
   "outputs": [],
   "source": [
    "#### definition d'une fonction calculant le rmse : \n",
    "def rmse(score):\n",
    "    moy = score.mean()\n",
    "    rmse = np.sqrt(moy)\n",
    "    return round(rmse,2)"
   ]
  },
  {
   "cell_type": "code",
   "execution_count": 61,
   "id": "023c7b35",
   "metadata": {},
   "outputs": [
    {
     "data": {
      "text/plain": [
       "228.71"
      ]
     },
     "execution_count": 61,
     "metadata": {},
     "output_type": "execute_result"
    }
   ],
   "source": [
    "rmse(model_init)\n",
    "#On a un mauvais score de base contrairement à KNN"
   ]
  },
  {
   "cell_type": "code",
   "execution_count": 62,
   "id": "f1dbfa5c",
   "metadata": {},
   "outputs": [
    {
     "name": "stdout",
     "output_type": "stream",
     "text": [
      "split  2 : rmse = 227.44 $\n",
      "split  3 : rmse = 228.81 $\n",
      "split  4 : rmse = 228.41 $\n",
      "split  5 : rmse = 228.71 $\n",
      "split  6 : rmse = 228.6 $\n",
      "split  7 : rmse = 228.72 $\n",
      "split  8 : rmse = 228.94 $\n",
      "split  9 : rmse = 229.21 $\n",
      "split  10 : rmse = 229.05 $\n",
      "split  11 : rmse = 228.96 $\n",
      "split  12 : rmse = 228.84 $\n",
      "split  13 : rmse = 228.71 $\n",
      "split  14 : rmse = 228.65 $\n",
      "split  15 : rmse = 228.98 $\n",
      "split  16 : rmse = 228.77 $\n",
      "split  17 : rmse = 228.74 $\n",
      "split  18 : rmse = 228.71 $\n",
      "split  19 : rmse = 228.66 $\n"
     ]
    }
   ],
   "source": [
    "dict_score_split = {}\n",
    "for i in range(2,20):\n",
    "    cross = KFold(n_splits=i, shuffle=True, random_state=42)\n",
    "    best_model_grid = cross_val_score(estimator= LinearRegression(), \n",
    "                X=X,y=y, \n",
    "                cv=cross,  \n",
    "                scoring=make_scorer(mean_squared_error))\n",
    "    dict_score_split[i] = rmse(best_model_grid)\n",
    "    print(\"split \",i, \": rmse =\", dict_score_split[i], \"$\")"
   ]
  },
  {
   "cell_type": "code",
   "execution_count": 63,
   "id": "6af59c79",
   "metadata": {},
   "outputs": [
    {
     "data": {
      "text/plain": [
       "2"
      ]
     },
     "execution_count": 63,
     "metadata": {},
     "output_type": "execute_result"
    }
   ],
   "source": [
    "best_n_split = min(dict_score_split, key = dict_score_split.get)\n",
    "best_n_split"
   ]
  },
  {
   "cell_type": "code",
   "execution_count": 64,
   "id": "3c83fb7f",
   "metadata": {},
   "outputs": [],
   "source": [
    "best_cross = KFold(n_splits=best_n_split, shuffle = True, random_state=42)\n",
    "best_model = cross_val_score(estimator=LinearRegression(), X = X, y = y, cv = best_cross, scoring=make_scorer(mean_squared_error))"
   ]
  },
  {
   "cell_type": "code",
   "execution_count": 65,
   "id": "125bda3b",
   "metadata": {},
   "outputs": [
    {
     "name": "stdout",
     "output_type": "stream",
     "text": [
      "Prédiction du prix avec l'amélioration du modèle à  227.44 $ près\n"
     ]
    }
   ],
   "source": [
    "print(\"Prédiction du prix avec l'amélioration du modèle à \", rmse(best_model), \"$ près\") "
   ]
  },
  {
   "cell_type": "code",
   "execution_count": 66,
   "id": "785082f6",
   "metadata": {},
   "outputs": [
    {
     "name": "stdout",
     "output_type": "stream",
     "text": [
      "Amélioration de la prédiction du prix de : 1.27 $\n"
     ]
    }
   ],
   "source": [
    "print(\"Amélioration de la prédiction du prix de :\", round(float(rmse(model_init))-float(rmse(best_model)),2), \"$\")"
   ]
  },
  {
   "cell_type": "markdown",
   "id": "fd06ff29",
   "metadata": {},
   "source": [
    "**Conclusion :**\n",
    "- KNN reste un meilleur modèle de prediction du prix des laptops"
   ]
  }
 ],
 "metadata": {
  "kernelspec": {
   "display_name": "Python 3 (ipykernel)",
   "language": "python",
   "name": "python3"
  },
  "language_info": {
   "codemirror_mode": {
    "name": "ipython",
    "version": 3
   },
   "file_extension": ".py",
   "mimetype": "text/x-python",
   "name": "python",
   "nbconvert_exporter": "python",
   "pygments_lexer": "ipython3",
   "version": "3.8.13"
  }
 },
 "nbformat": 4,
 "nbformat_minor": 5
}
